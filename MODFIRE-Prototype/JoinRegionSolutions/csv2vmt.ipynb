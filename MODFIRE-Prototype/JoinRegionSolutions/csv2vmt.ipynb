{
 "cells": [
  {
   "cell_type": "code",
   "execution_count": 1,
   "metadata": {},
   "outputs": [
    {
     "name": "stdout",
     "output_type": "stream",
     "text": [
      "Hoje: 16/02/2023 16:37:32\n",
      "\n",
      "/home/eduardo/reuniao/2Eduardo\n"
     ]
    }
   ],
   "source": [
    "# 01.02.2023\n",
    "import datetime\n",
    "print(\"Hoje: {:%d/%m/%Y %H:%M:%S\\n}\".format(datetime.datetime.now()))\n",
    "import os\n",
    "print(os.getcwd())   # get current working directory"
   ]
  },
  {
   "cell_type": "code",
   "execution_count": 2,
   "metadata": {},
   "outputs": [
    {
     "name": "stdout",
     "output_type": "stream",
     "text": [
      "814\n"
     ]
    }
   ],
   "source": [
    "#---------------------------ParPen\n",
    "fileName = 'ParPen/ParPen-ParetoPoints.csv'\n",
    "file = open(fileName, 'r')\n",
    "Lines = file.readlines()\n",
    "file.close()\n",
    "\n",
    "ParPen_ParetoPoints = []\n",
    "for p in Lines[1:] :\n",
    "    lin = p.split(\",\")\n",
    "    val = []\n",
    "    for s in lin[:3] :\n",
    "        val.append(int(s))\n",
    "    val[1] = abs(val[1])\n",
    "    ParPen_ParetoPoints.append(val) \n",
    "    \n",
    "fileName = 'ParPenPP.vmt'\n",
    "file = open(fileName, 'w')\n",
    "file.write(\"ParPen\\tWood\\tSoil\\tResist\\n\")\n",
    "file.write(\"#\\t+\\t-\\t+\\n\")\n",
    "k = 0\n",
    "for p in ParPen_ParetoPoints:\n",
    "    k += 1    \n",
    "    buf = 'P%04d'%(k)+\"\\t\"+'%.4f'%(p[0]*0.000001)+\"\\t\"+'%.4f'%(p[1]*0.000001)+\"\\t\"+'%.4f'%(p[2]*0.001)+\"\\n\"    \n",
    "    file.write(buf)\n",
    "file.close()\n",
    "print(k)"
   ]
  },
  {
   "cell_type": "code",
   "execution_count": 3,
   "metadata": {},
   "outputs": [
    {
     "name": "stdout",
     "output_type": "stream",
     "text": [
      "742\n"
     ]
    }
   ],
   "source": [
    "#------------------------------------------PaivaWest\n",
    "fileName = 'PWest/PaivaWest-ParetoPoints.csv'\n",
    "file = open(fileName, 'r')\n",
    "Lines = file.readlines()\n",
    "file.close()\n",
    "\n",
    "PaivaWest_ParetoPoints = []\n",
    "for p in Lines[1:] :\n",
    "    lin = p.split(\",\")\n",
    "    val = []\n",
    "    for s in lin[:3]:\n",
    "        val.append(int(s))\n",
    "    val[1] = abs(val[1])\n",
    "    PaivaWest_ParetoPoints.append(val) \n",
    "    \n",
    "fileName = 'PaivaWestPP.vmt'\n",
    "file = open(fileName, 'w')\n",
    "file.write(\"Pwest\\tWood\\tSoil\\tResist\\n\")\n",
    "file.write(\"#\\t+\\t-\\t+\\n\")\n",
    "k = 0\n",
    "for p in PaivaWest_ParetoPoints:\n",
    "    k += 1    \n",
    "    buf = 'P%04d'%(k)+\"\\t\"+'%.4f'%(p[0]*0.000001)+\"\\t\"+'%.4f'%(p[1]*0.000001)+\"\\t\"+'%.4f'%(p[2]*0.001)+\"\\n\"    \n",
    "    file.write(buf)\n",
    "file.close()\n",
    "print(k)"
   ]
  },
  {
   "cell_type": "code",
   "execution_count": 4,
   "metadata": {},
   "outputs": [
    {
     "name": "stdout",
     "output_type": "stream",
     "text": [
      "681\n"
     ]
    }
   ],
   "source": [
    "#------------------------------------------PaivaEast\n",
    "fileName = 'PEast/PaivaEast-ParetoPoints.csv'\n",
    "file = open(fileName, 'r')\n",
    "Lines = file.readlines()\n",
    "file.close()\n",
    "\n",
    "PaivaEast_ParetoPoints = []\n",
    "for p in Lines[1:]:\n",
    "    lin = p.split(\",\")\n",
    "    val = []\n",
    "    for s in lin[:3] :\n",
    "        val.append(int(s))\n",
    "    val[1] = abs(val[1])\n",
    "    PaivaEast_ParetoPoints.append(val) \n",
    "    \n",
    "fileName = 'PaivaEastPP.vmt'\n",
    "file = open(fileName, 'w')\n",
    "file.write(\"Peast\\tWood\\tSoil\\tResist\\n\")\n",
    "file.write(\"#\\t+\\t-\\t+\\n\")\n",
    "k = 0\n",
    "for p in PaivaEast_ParetoPoints:\n",
    "    k += 1    \n",
    "    buf = 'P%04d'%(k)+\"\\t\"+'%.4f'%(p[0]*0.000001)+\"\\t\"+'%.4f'%(p[1]*0.000001)+\"\\t\"+'%.4f'%(p[2]*0.001)+\"\\n\"    \n",
    "    file.write(buf)\n",
    "file.close()\n",
    "print(k)"
   ]
  },
  {
   "cell_type": "code",
   "execution_count": 5,
   "metadata": {},
   "outputs": [
    {
     "name": "stdout",
     "output_type": "stream",
     "text": [
      "579\n"
     ]
    }
   ],
   "source": [
    "#------------------------------------------PaivaIsland\n",
    "fileName = 'PIslands/PaivaIslands-ParetoPoints.csv'\n",
    "file = open(fileName, 'r')\n",
    "Lines = file.readlines()\n",
    "file.close()\n",
    "\n",
    "PaivaIsland_ParetoPoints = []\n",
    "for p in Lines[1:] :\n",
    "    lin = p.split(\",\")\n",
    "    val = []\n",
    "    for s in lin[:3] :\n",
    "        val.append(int(s))\n",
    "    val[1] = abs(val[1])\n",
    "    PaivaIsland_ParetoPoints.append(val) \n",
    "    \n",
    "fileName = 'PaivaIslandsPP.vmt'\n",
    "file = open(fileName, 'w')\n",
    "file.write(\"Pislands\\tWood\\tSoil\\tResist\\n\")\n",
    "file.write(\"#\\t+\\t-\\t+\\n\")\n",
    "k = 0\n",
    "for p in PaivaIsland_ParetoPoints:\n",
    "    k += 1    \n",
    "    buf = 'P%04d'%(k)+\"\\t\"+'%.4f'%(p[0]*0.000001)+\"\\t\"+'%.4f'%(p[1]*0.000001)+\"\\t\"+'%.4f'%(p[2]*0.001)+\"\\n\"    \n",
    "    file.write(buf)\n",
    "file.close()\n",
    "print(k)"
   ]
  },
  {
   "cell_type": "code",
   "execution_count": null,
   "metadata": {},
   "outputs": [],
   "source": []
  },
  {
   "cell_type": "code",
   "execution_count": null,
   "metadata": {},
   "outputs": [],
   "source": []
  },
  {
   "cell_type": "code",
   "execution_count": null,
   "metadata": {},
   "outputs": [],
   "source": []
  }
 ],
 "metadata": {
  "kernelspec": {
   "display_name": "Python 3",
   "language": "python",
   "name": "python3"
  },
  "language_info": {
   "codemirror_mode": {
    "name": "ipython",
    "version": 3
   },
   "file_extension": ".py",
   "mimetype": "text/x-python",
   "name": "python",
   "nbconvert_exporter": "python",
   "pygments_lexer": "ipython3",
   "version": "3.8.10"
  }
 },
 "nbformat": 4,
 "nbformat_minor": 4
}
