{
 "cells": [
  {
   "cell_type": "code",
   "execution_count": 1,
   "metadata": {},
   "outputs": [
    {
     "name": "stdout",
     "output_type": "stream",
     "text": [
      "Hoje: 07/02/2023 12:12:34\n",
      "\n",
      "/home/eduardo/reuniao/2Eduardo\n"
     ]
    }
   ],
   "source": [
    "# 01.02.2023\n",
    "import datetime\n",
    "print(\"Hoje: {:%d/%m/%Y %H:%M:%S\\n}\".format(datetime.datetime.now()))\n",
    "import os\n",
    "print(os.getcwd())   # get current working directory"
   ]
  },
  {
   "cell_type": "code",
   "execution_count": 2,
   "metadata": {},
   "outputs": [],
   "source": [
    "# Pared Penaf PaivaWest  PaivaEast PaivaIsland\n",
    "#    1    2       3         4          5"
   ]
  },
  {
   "cell_type": "code",
   "execution_count": 3,
   "metadata": {},
   "outputs": [
    {
     "name": "stdout",
     "output_type": "stream",
     "text": [
      "The time is: 1675771954.691512\n"
     ]
    }
   ],
   "source": [
    "import time\n",
    "TStart = time.time()\n",
    "print('The time is:', time.time())"
   ]
  },
  {
   "cell_type": "code",
   "execution_count": 4,
   "metadata": {},
   "outputs": [],
   "source": [
    "def PP2File(fileName,LIST,modelName):\n",
    "    file = open(fileName, 'w')\n",
    "    file.write(modelName)\n",
    "    file.write(\"\\tWood\\tSoil\\tResist\\tPared\\tPenaf\\tPaivaW\\tPaivaE\\tPaivaI\\n\")\n",
    "    file.write(\"#\\t+\\t-\\t+\\t#\\t#\\t#\\t#\\t#\\n\")\n",
    "    k = 0\n",
    "    for p in LIST:\n",
    "        k += 1    \n",
    "        buf = 'P%06d'%(k)+\"\\t\"+'%.4f'%(p[0])+\"\\t\"+'%.4f'%(p[1])+\"\\t\"+'%.4f'%(p[2])+ \\\n",
    "        \"\\t\"+'%d'%(p[3])+\"\\t\"+'%d'%(p[4])+\"\\t\"+'%d'%(p[5])+\"\\t\"+'%d'%(p[6])+\"\\t\"+'%d'%(p[7])+\"\\n\"    \n",
    "        file.write(buf)\n",
    "    file.close()"
   ]
  },
  {
   "cell_type": "code",
   "execution_count": 5,
   "metadata": {},
   "outputs": [],
   "source": [
    "def readPPfile(fileName):\n",
    "    file = open(fileName, 'r')\n",
    "    Lines = file.readlines()\n",
    "    file.close()\n",
    "    #------------------\n",
    "    LIST = []\n",
    "    for p in Lines[2:]:\n",
    "        lin = p.split(\"\\t\")        \n",
    "        val = []\n",
    "        for s in lin[1:]:\n",
    "            val.append(float(s))    \n",
    "        LIST.append(val)\n",
    "    return (LIST)"
   ]
  },
  {
   "cell_type": "code",
   "execution_count": 6,
   "metadata": {},
   "outputs": [],
   "source": [
    "pntNumber = 0\n",
    "MasterParPoints = []\n",
    "#-------------------------------------------functions\n",
    "def pnt_dominated(pnt):\n",
    "    # is pnt dominated by MasterParPoints? \n",
    "    #print('pnt=', pnt)        \n",
    "    for k in range(len(MasterParPoints)):        \n",
    "        #print('COMPAR ', MasterParPoints[k])\n",
    "        if MasterParPoints[k][0] >= pnt[0] and MasterParPoints[k][1] <= pnt[1] and MasterParPoints[k][2] >= pnt[2]:\n",
    "            #print('pnt dominated by ',k )\n",
    "            return True\n",
    "    return False\n",
    "    \n",
    "def insert_pnt(npnt):\n",
    "    if pnt_dominated(npnt):\n",
    "        #print ('ignorar')\n",
    "        return 0\n",
    "    # elimination of SumParPoints dominated by pnt\n",
    "    k = 0 \n",
    "    while k < len(MasterParPoints):        \n",
    "        if npnt[0] >= MasterParPoints[k][0] and npnt[1] <= MasterParPoints[k][1] and npnt[2] >= MasterParPoints[k][2]:           \n",
    "            del MasterParPoints[k]\n",
    "        else:\n",
    "            k += 1\n",
    "    MasterParPoints.append(npnt)\n",
    "    if len(MasterParPoints)%500==0:\n",
    "        TTemp = time.time()\n",
    "        print('pnt={:>10d}. ParPnt={:>6d}. Time  : {:>9.2f}'.format(pntNumber,len(MasterParPoints), TTemp - TStart))\n",
    "    return 1\n"
   ]
  },
  {
   "cell_type": "code",
   "execution_count": null,
   "metadata": {},
   "outputs": [],
   "source": []
  },
  {
   "cell_type": "code",
   "execution_count": 7,
   "metadata": {},
   "outputs": [],
   "source": [
    "def filter(PPSet, nReg = -1):\n",
    "    # nReg:  1  2  3   4  5\n",
    "    # nReg = 0 : não alterar os indices dos pontos \n",
    "    global MasterParPoints\n",
    "    global TStart, TFinish\n",
    "    global pntNumber\n",
    "    \n",
    "    MasterParPoints = []\n",
    "    pntNumber = 0\n",
    "    \n",
    "    TStart = time.time()\n",
    "    pntNumber = 0\n",
    "    \n",
    "    for i in range(len(PPSet)):\n",
    "        if nReg < 0:\n",
    "            newp = [0,0,0]\n",
    "        elif nReg == 0:\n",
    "            newp = [0,0,0,  0,0,0,0,0]\n",
    "            for k in range(8):\n",
    "                newp[k] = PPSet[i][k]\n",
    "        else:\n",
    "            newp = [0,0,0,  0,0,0,0,0]\n",
    "            newp[nReg+2] = i+1\n",
    "        for k in range(3):\n",
    "            newp[k] = PPSet[i][k]        \n",
    "        insert_pnt(newp)\n",
    "        pntNumber = pntNumber + 1    \n",
    "    \n",
    "    TFinish = time.time()\n",
    "    print(len(MasterParPoints))\n",
    "    print('Time  : {:>9.2f}'.format(TFinish - TStart))\n",
    "    ResultSet = MasterParPoints.copy()\n",
    "    return ResultSet   "
   ]
  },
  {
   "cell_type": "code",
   "execution_count": 8,
   "metadata": {},
   "outputs": [],
   "source": [
    "def Arred3d(LIST, mult):\n",
    "    for p in LIST:\n",
    "        for k in range(3):\n",
    "            p[k] = int(p[k]*mult[k] + 0.5)/mult[k]        "
   ]
  },
  {
   "cell_type": "code",
   "execution_count": 9,
   "metadata": {},
   "outputs": [],
   "source": [
    "def pntclr(x3, x3_min, x3_max):\n",
    "    clrs = ['red','orange', 'yellow','green', 'lightblue', 'blue', 'magenta']\n",
    "    n = int(((x3 - x3_min)/(x3_max - x3_min))*6+0.5)\n",
    "    if n<0:\n",
    "        n = 0\n",
    "    elif n>6:\n",
    "        n = 6\n",
    "    return clrs[n]"
   ]
  },
  {
   "cell_type": "code",
   "execution_count": 10,
   "metadata": {},
   "outputs": [],
   "source": [
    "######################################################"
   ]
  },
  {
   "cell_type": "code",
   "execution_count": 11,
   "metadata": {},
   "outputs": [
    {
     "data": {
      "text/plain": [
       "813"
      ]
     },
     "execution_count": 11,
     "metadata": {},
     "output_type": "execute_result"
    }
   ],
   "source": [
    "ParPenPP = readPPfile('ParPenPP.vmt')\n",
    "len(ParPenPP)"
   ]
  },
  {
   "cell_type": "code",
   "execution_count": 12,
   "metadata": {},
   "outputs": [
    {
     "data": {
      "text/plain": [
       "[[2.8185, 2.445, 20.952],\n",
       " [2.8183, 2.4451, 20.953],\n",
       " [2.8182, 2.445, 20.953],\n",
       " [2.8177, 2.4426, 20.956],\n",
       " [2.8185, 2.4452, 20.952]]"
      ]
     },
     "execution_count": 12,
     "metadata": {},
     "output_type": "execute_result"
    }
   ],
   "source": [
    "ParPenPP[:5]"
   ]
  },
  {
   "cell_type": "code",
   "execution_count": 13,
   "metadata": {},
   "outputs": [
    {
     "name": "stdout",
     "output_type": "stream",
     "text": [
      "226\n",
      "Time  :      0.05\n"
     ]
    },
    {
     "data": {
      "text/plain": [
       "226"
      ]
     },
     "execution_count": 13,
     "metadata": {},
     "output_type": "execute_result"
    }
   ],
   "source": [
    "ParPenPPF = filter(ParPenPP,1)\n",
    "len(ParPenPPF)"
   ]
  },
  {
   "cell_type": "code",
   "execution_count": 14,
   "metadata": {},
   "outputs": [
    {
     "data": {
      "text/plain": [
       "[[2.8185, 2.445, 20.952, 1, 0, 0, 0, 0],\n",
       " [2.8183, 2.4451, 20.953, 2, 0, 0, 0, 0],\n",
       " [2.8182, 2.445, 20.953, 3, 0, 0, 0, 0],\n",
       " [2.8177, 2.4426, 20.956, 4, 0, 0, 0, 0],\n",
       " [2.8131, 2.4394, 20.968, 9, 0, 0, 0, 0]]"
      ]
     },
     "execution_count": 14,
     "metadata": {},
     "output_type": "execute_result"
    }
   ],
   "source": [
    "ParPenPPF[:5]"
   ]
  },
  {
   "cell_type": "code",
   "execution_count": 15,
   "metadata": {},
   "outputs": [],
   "source": [
    "# Numeração dos pontos da subregião a partir de 1!"
   ]
  },
  {
   "cell_type": "code",
   "execution_count": 16,
   "metadata": {},
   "outputs": [],
   "source": [
    "PP2File(\"ParPenPPF.vmt\",ParPenPPF,\"ParPenF\")"
   ]
  },
  {
   "cell_type": "code",
   "execution_count": 17,
   "metadata": {},
   "outputs": [
    {
     "name": "stdout",
     "output_type": "stream",
     "text": [
      "2.7947 2.8188\n",
      "2.4361 2.4453\n",
      "20.948 20.996\n"
     ]
    },
    {
     "data": {
      "image/png": "[encoded data removed]",
      "text/plain": [
       "<Figure size 432x432 with 1 Axes>"
      ]
     },
     "metadata": {
      "needs_background": "light"
     },
     "output_type": "display_data"
    },
    {
     "name": "stdout",
     "output_type": "stream",
     "text": [
      "Time  :     15.66\n"
     ]
    }
   ],
   "source": [
    "PPSet = ParPenPP\n",
    "TStart = time.time()\n",
    "X1 = [PPSet[i][0] for i in range(len(PPSet))]\n",
    "X2 = [PPSet[i][1] for i in range(len(PPSet))]\n",
    "X3 = [PPSet[i][2] for i in range(len(PPSet))]\n",
    "x1_min = min(X1); x1_max = max(X1)\n",
    "print(x1_min, x1_max)\n",
    "x2_min = min(X2); x2_max = max(X2)\n",
    "print(x2_min, x2_max)\n",
    "x3_min = min(X3); x3_max = max(X3)\n",
    "print(x3_min, x3_max)\n",
    "#################################\n",
    "\n",
    "import numpy as np\n",
    "import matplotlib.pyplot as plt\n",
    "\n",
    "fig = plt.figure(figsize =(6,6))\n",
    "for i in range(len(X1)):\n",
    "    plt.scatter(X1[i],X2[i], color=pntclr(X3[i],x3_min,x3_max))\n",
    "plt.xlabel('x1')    \n",
    "plt.ylabel('x2')    \n",
    "plt.grid()    \n",
    "plt.show()  \n",
    "TFinish = time.time()\n",
    "print('Time  : {:>9.2f}'.format(TFinish - TStart))"
   ]
  },
  {
   "cell_type": "code",
   "execution_count": 18,
   "metadata": {},
   "outputs": [
    {
     "name": "stdout",
     "output_type": "stream",
     "text": [
      "2.7947 2.8188\n",
      "2.4361 2.4452\n",
      "20.949 20.996\n"
     ]
    },
    {
     "data": {
      "image/png": "[encoded data removed]",
      "text/plain": [
       "<Figure size 432x432 with 1 Axes>"
      ]
     },
     "metadata": {
      "needs_background": "light"
     },
     "output_type": "display_data"
    },
    {
     "name": "stdout",
     "output_type": "stream",
     "text": [
      "Time  :      4.55\n"
     ]
    }
   ],
   "source": [
    "PPSet = ParPenPPF\n",
    "TStart = time.time()\n",
    "X1 = [PPSet[i][0] for i in range(len(PPSet))]\n",
    "X2 = [PPSet[i][1] for i in range(len(PPSet))]\n",
    "X3 = [PPSet[i][2] for i in range(len(PPSet))]\n",
    "x1_min = min(X1); x1_max = max(X1)\n",
    "print(x1_min, x1_max)\n",
    "x2_min = min(X2); x2_max = max(X2)\n",
    "print(x2_min, x2_max)\n",
    "x3_min = min(X3); x3_max = max(X3)\n",
    "print(x3_min, x3_max)\n",
    "#################################\n",
    "\n",
    "import numpy as np\n",
    "import matplotlib.pyplot as plt\n",
    "\n",
    "fig = plt.figure(figsize =(6,6))\n",
    "for i in range(len(X1)):\n",
    "    plt.scatter(X1[i],X2[i], color=pntclr(X3[i],x3_min,x3_max))\n",
    "plt.xlabel('x1')    \n",
    "plt.ylabel('x2')    \n",
    "plt.grid()    \n",
    "plt.show()    \n",
    "TFinish = time.time()\n",
    "print('Time  : {:>9.2f}'.format(TFinish - TStart))"
   ]
  },
  {
   "cell_type": "code",
   "execution_count": 19,
   "metadata": {},
   "outputs": [
    {
     "data": {
      "text/plain": [
       "742"
      ]
     },
     "execution_count": 19,
     "metadata": {},
     "output_type": "execute_result"
    }
   ],
   "source": [
    "PaivaWestPP = readPPfile('PaivaWestPP.vmt')\n",
    "len(PaivaWestPP)"
   ]
  },
  {
   "cell_type": "code",
   "execution_count": 20,
   "metadata": {},
   "outputs": [
    {
     "data": {
      "text/plain": [
       "[[2.2972, 2.6233, 17.36],\n",
       " [2.2972, 2.6233, 17.36],\n",
       " [2.2972, 2.6232, 17.36],\n",
       " [2.2967, 2.6225, 17.357],\n",
       " [2.2967, 2.6224, 17.357]]"
      ]
     },
     "execution_count": 20,
     "metadata": {},
     "output_type": "execute_result"
    }
   ],
   "source": [
    "PaivaWestPP[:5]"
   ]
  },
  {
   "cell_type": "code",
   "execution_count": 21,
   "metadata": {
    "scrolled": true
   },
   "outputs": [
    {
     "name": "stdout",
     "output_type": "stream",
     "text": [
      "247\n",
      "Time  :      0.03\n"
     ]
    },
    {
     "data": {
      "text/plain": [
       "247"
      ]
     },
     "execution_count": 21,
     "metadata": {},
     "output_type": "execute_result"
    }
   ],
   "source": [
    "PaivaWestPPF = filter(PaivaWestPP, 3)\n",
    "len(PaivaWestPPF)"
   ]
  },
  {
   "cell_type": "code",
   "execution_count": 22,
   "metadata": {},
   "outputs": [
    {
     "data": {
      "text/plain": [
       "[[2.2972, 2.6232, 17.36, 0, 0, 3, 0, 0],\n",
       " [2.2969, 2.6233, 17.361, 0, 0, 9, 0, 0],\n",
       " [2.2968, 2.6226, 17.357, 0, 0, 16, 0, 0],\n",
       " [2.2981, 2.6251, 17.366, 0, 0, 21, 0, 0],\n",
       " [2.2985, 2.6262, 17.368, 0, 0, 23, 0, 0]]"
      ]
     },
     "execution_count": 22,
     "metadata": {},
     "output_type": "execute_result"
    }
   ],
   "source": [
    "PaivaWestPPF[:5]"
   ]
  },
  {
   "cell_type": "code",
   "execution_count": 23,
   "metadata": {},
   "outputs": [],
   "source": [
    "PP2File(\"PaivaWestPPF.vmt\",PaivaWestPPF,\"PWestF\")"
   ]
  },
  {
   "cell_type": "code",
   "execution_count": 24,
   "metadata": {},
   "outputs": [
    {
     "data": {
      "text/plain": [
       "874"
      ]
     },
     "execution_count": 24,
     "metadata": {},
     "output_type": "execute_result"
    }
   ],
   "source": [
    "PaivaEastPP = readPPfile('PaivaEastPP.vmt')\n",
    "len(PaivaEastPP)"
   ]
  },
  {
   "cell_type": "code",
   "execution_count": 25,
   "metadata": {},
   "outputs": [
    {
     "data": {
      "text/plain": [
       "[[0.3787, 0.507, 2.934],\n",
       " [0.3797, 0.5112, 2.939],\n",
       " [0.3791, 0.5093, 2.939],\n",
       " [0.3784, 0.5069, 2.934],\n",
       " [0.3795, 0.5112, 2.939]]"
      ]
     },
     "execution_count": 25,
     "metadata": {},
     "output_type": "execute_result"
    }
   ],
   "source": [
    "PaivaEastPP[:5]"
   ]
  },
  {
   "cell_type": "code",
   "execution_count": 26,
   "metadata": {},
   "outputs": [
    {
     "name": "stdout",
     "output_type": "stream",
     "text": [
      "412\n",
      "Time  :      0.08\n"
     ]
    },
    {
     "data": {
      "text/plain": [
       "412"
      ]
     },
     "execution_count": 26,
     "metadata": {},
     "output_type": "execute_result"
    }
   ],
   "source": [
    "PaivaEastPPF = filter(PaivaEastPP,4)\n",
    "len(PaivaEastPPF)"
   ]
  },
  {
   "cell_type": "code",
   "execution_count": 27,
   "metadata": {},
   "outputs": [
    {
     "data": {
      "text/plain": [
       "[[0.3787, 0.507, 2.934, 0, 0, 0, 1, 0],\n",
       " [0.3797, 0.5112, 2.939, 0, 0, 0, 2, 0],\n",
       " [0.3791, 0.5093, 2.939, 0, 0, 0, 3, 0],\n",
       " [0.3784, 0.5069, 2.934, 0, 0, 0, 4, 0],\n",
       " [0.378, 0.5076, 2.944, 0, 0, 0, 7, 0]]"
      ]
     },
     "execution_count": 27,
     "metadata": {},
     "output_type": "execute_result"
    }
   ],
   "source": [
    "PaivaEastPPF[:5]"
   ]
  },
  {
   "cell_type": "code",
   "execution_count": 28,
   "metadata": {},
   "outputs": [],
   "source": [
    "PP2File(\"PaivaEastPPF.vmt\",PaivaEastPPF,\"PEastF\")"
   ]
  },
  {
   "cell_type": "code",
   "execution_count": 29,
   "metadata": {},
   "outputs": [
    {
     "data": {
      "text/plain": [
       "578"
      ]
     },
     "execution_count": 29,
     "metadata": {},
     "output_type": "execute_result"
    }
   ],
   "source": [
    "PaivaIslandsPP = readPPfile('PaivaIslandsPP.vmt')\n",
    "len(PaivaIslandsPP)"
   ]
  },
  {
   "cell_type": "code",
   "execution_count": 30,
   "metadata": {},
   "outputs": [
    {
     "data": {
      "text/plain": [
       "[[0.3446, 0.3875, 2.347],\n",
       " [0.3289, 0.3781, 2.371],\n",
       " [0.329, 0.3781, 2.371],\n",
       " [0.3291, 0.3782, 2.371],\n",
       " [0.3291, 0.3782, 2.371]]"
      ]
     },
     "execution_count": 30,
     "metadata": {},
     "output_type": "execute_result"
    }
   ],
   "source": [
    "PaivaIslandsPP[:5]"
   ]
  },
  {
   "cell_type": "code",
   "execution_count": 31,
   "metadata": {},
   "outputs": [
    {
     "name": "stdout",
     "output_type": "stream",
     "text": [
      "284\n",
      "Time  :      0.04\n"
     ]
    },
    {
     "data": {
      "text/plain": [
       "284"
      ]
     },
     "execution_count": 31,
     "metadata": {},
     "output_type": "execute_result"
    }
   ],
   "source": [
    "PaivaIslandsPPF = filter(PaivaIslandsPP,5)\n",
    "len(PaivaIslandsPPF)"
   ]
  },
  {
   "cell_type": "code",
   "execution_count": 32,
   "metadata": {},
   "outputs": [
    {
     "data": {
      "text/plain": [
       "[[0.329, 0.3781, 2.371, 0, 0, 0, 0, 3],\n",
       " [0.3306, 0.3786, 2.386, 0, 0, 0, 0, 6],\n",
       " [0.3299, 0.3782, 2.376, 0, 0, 0, 0, 7],\n",
       " [0.3316, 0.3787, 2.385, 0, 0, 0, 0, 8],\n",
       " [0.3309, 0.3783, 2.375, 0, 0, 0, 0, 10]]"
      ]
     },
     "execution_count": 32,
     "metadata": {},
     "output_type": "execute_result"
    }
   ],
   "source": [
    "PaivaIslandsPPF[:5]"
   ]
  },
  {
   "cell_type": "code",
   "execution_count": 33,
   "metadata": {},
   "outputs": [],
   "source": [
    "PP2File(\"PaivaIslandsPPF.vmt\",PaivaIslandsPPF,\"PIslanF\")"
   ]
  },
  {
   "cell_type": "code",
   "execution_count": 34,
   "metadata": {},
   "outputs": [
    {
     "name": "stdout",
     "output_type": "stream",
     "text": [
      "2.2905 2.3014\n",
      "2.6153 2.6304\n",
      "17.348 17.388\n"
     ]
    },
    {
     "data": {
      "image/png": "[encoded data removed]",
      "text/plain": [
       "<Figure size 432x432 with 1 Axes>"
      ]
     },
     "metadata": {
      "needs_background": "light"
     },
     "output_type": "display_data"
    },
    {
     "name": "stdout",
     "output_type": "stream",
     "text": [
      "Time  :     13.90\n"
     ]
    }
   ],
   "source": [
    "PPSet = PaivaWestPP\n",
    "TStart = time.time()\n",
    "X1 = [PPSet[i][0] for i in range(len(PPSet))]\n",
    "X2 = [PPSet[i][1] for i in range(len(PPSet))]\n",
    "X3 = [PPSet[i][2] for i in range(len(PPSet))]\n",
    "x1_min = min(X1); x1_max = max(X1)\n",
    "print(x1_min, x1_max)\n",
    "x2_min = min(X2); x2_max = max(X2)\n",
    "print(x2_min, x2_max)\n",
    "x3_min = min(X3); x3_max = max(X3)\n",
    "print(x3_min, x3_max)\n",
    "#################################\n",
    "\n",
    "import numpy as np\n",
    "import matplotlib.pyplot as plt\n",
    "\n",
    "fig = plt.figure(figsize =(6,6))\n",
    "for i in range(len(X1)):\n",
    "    plt.scatter(X1[i],X2[i], color=pntclr(X3[i],x3_min,x3_max))\n",
    "plt.xlabel('x1')    \n",
    "plt.ylabel('x2')    \n",
    "plt.grid()    \n",
    "plt.show()\n",
    "TFinish = time.time()\n",
    "print('Time  : {:>9.2f}'.format(TFinish - TStart))"
   ]
  },
  {
   "cell_type": "code",
   "execution_count": 35,
   "metadata": {},
   "outputs": [
    {
     "name": "stdout",
     "output_type": "stream",
     "text": [
      "2.2905 2.3014\n",
      "2.6153 2.6304\n",
      "17.348 17.388\n"
     ]
    },
    {
     "data": {
      "image/png": "[encoded data removed]",
      "text/plain": [
       "<Figure size 432x432 with 1 Axes>"
      ]
     },
     "metadata": {
      "needs_background": "light"
     },
     "output_type": "display_data"
    },
    {
     "name": "stdout",
     "output_type": "stream",
     "text": [
      "Time  :      4.33\n"
     ]
    }
   ],
   "source": [
    "PPSet = PaivaWestPPF\n",
    "TStart = time.time()\n",
    "X1 = [PPSet[i][0] for i in range(len(PPSet))]\n",
    "X2 = [PPSet[i][1] for i in range(len(PPSet))]\n",
    "X3 = [PPSet[i][2] for i in range(len(PPSet))]\n",
    "x1_min = min(X1); x1_max = max(X1)\n",
    "print(x1_min, x1_max)\n",
    "x2_min = min(X2); x2_max = max(X2)\n",
    "print(x2_min, x2_max)\n",
    "x3_min = min(X3); x3_max = max(X3)\n",
    "print(x3_min, x3_max)\n",
    "#################################\n",
    "\n",
    "import numpy as np\n",
    "import matplotlib.pyplot as plt\n",
    "\n",
    "fig = plt.figure(figsize =(6,6))\n",
    "for i in range(len(X1)):\n",
    "    plt.scatter(X1[i],X2[i], color=pntclr(X3[i],x3_min,x3_max))\n",
    "plt.xlabel('x1')    \n",
    "plt.ylabel('x2')    \n",
    "plt.grid()    \n",
    "plt.show() \n",
    "TFinish = time.time()\n",
    "print('Time  : {:>9.2f}'.format(TFinish - TStart))"
   ]
  },
  {
   "cell_type": "code",
   "execution_count": 36,
   "metadata": {},
   "outputs": [
    {
     "data": {
      "text/plain": [
       "(813, 742, 874, 578)"
      ]
     },
     "execution_count": 36,
     "metadata": {},
     "output_type": "execute_result"
    }
   ],
   "source": [
    "len(ParPenPP),len(PaivaWestPP),len(PaivaEastPP),len(PaivaIslandsPP)"
   ]
  },
  {
   "cell_type": "code",
   "execution_count": 37,
   "metadata": {},
   "outputs": [
    {
     "data": {
      "text/plain": [
       "(226, 247, 412, 284)"
      ]
     },
     "execution_count": 37,
     "metadata": {},
     "output_type": "execute_result"
    }
   ],
   "source": [
    "len(ParPenPPF),len(PaivaWestPPF),len(PaivaEastPPF),len(PaivaIslandsPPF)"
   ]
  },
  {
   "cell_type": "code",
   "execution_count": 38,
   "metadata": {},
   "outputs": [],
   "source": [
    "##################################################################"
   ]
  },
  {
   "cell_type": "code",
   "execution_count": 39,
   "metadata": {},
   "outputs": [
    {
     "name": "stdout",
     "output_type": "stream",
     "text": [
      "Joining Paiva West + East\n",
      "pnt=       730. ParPnt=   500. Time  :      0.09\n",
      "pnt=      1350. ParPnt=   500. Time  :      0.17\n",
      "pnt=      1378. ParPnt=   500. Time  :      0.18\n",
      "pnt=      1552. ParPnt=   500. Time  :      0.22\n",
      "pnt=      2881. ParPnt=  1000. Time  :      0.64\n",
      "pnt=      2904. ParPnt=  1000. Time  :      0.65\n",
      "pnt=      3511. ParPnt=  1000. Time  :      0.82\n",
      "pnt=      3520. ParPnt=  1000. Time  :      0.82\n",
      "pnt=      3555. ParPnt=  1000. Time  :      0.83\n",
      "pnt=     11561. ParPnt=  1500. Time  :      1.85\n",
      "pnt=     28882. ParPnt=  2000. Time  :      4.56\n",
      "pnt=     28885. ParPnt=  2000. Time  :      4.56\n",
      "pnt=     28903. ParPnt=  2000. Time  :      4.56\n",
      "pnt=     37316. ParPnt=  2500. Time  :      8.56\n",
      "pnt=     39720. ParPnt=  2500. Time  :     10.14\n",
      "pnt=     71561. ParPnt=  3000. Time  :     20.43\n",
      "pnt=     71797. ParPnt=  3000. Time  :     20.55\n",
      "pnt=     71800. ParPnt=  3000. Time  :     20.56\n",
      "pnt=     71803. ParPnt=  3000. Time  :     20.56\n",
      "pnt=     71805. ParPnt=  3000. Time  :     20.56\n",
      "pnt=     71840. ParPnt=  3000. Time  :     20.58\n",
      "pnt=     71869. ParPnt=  3000. Time  :     20.59\n",
      "pnt=     71981. ParPnt=  3000. Time  :     20.67\n",
      "pnt=     72005. ParPnt=  3000. Time  :     20.69\n",
      "pnt=     72026. ParPnt=  3000. Time  :     20.70\n",
      "pnt=     72027. ParPnt=  3000. Time  :     20.70\n",
      "pnt=     72034. ParPnt=  3000. Time  :     20.71\n",
      "pnt=     72037. ParPnt=  3000. Time  :     20.71\n",
      "pnt=     72040. ParPnt=  3000. Time  :     20.72\n",
      "Joined West+East\n",
      "3498\n",
      "Time  :     28.94\n"
     ]
    },
    {
     "data": {
      "text/plain": [
       "3498"
      ]
     },
     "execution_count": 39,
     "metadata": {},
     "output_type": "execute_result"
    }
   ],
   "source": [
    "MasterParPoints = []   \n",
    "\n",
    "TStart = time.time()\n",
    "pntNumber = 0\n",
    "#---------------------------------Joining Paivas\n",
    "print(\"Joining Paiva West + East\")\n",
    "\n",
    "for i in range(len(PaivaWestPPF)):\n",
    "    for j in range(len(PaivaEastPPF)):\n",
    "        newp = [0,0,0,  0,0,0,0,0]\n",
    "        for k in range(3):\n",
    "            newp[k] = PaivaWestPPF[i][k] + PaivaEastPPF[j][k]\n",
    "        newp[5] = PaivaWestPPF[i][5]\n",
    "        newp[6] = PaivaEastPPF[j][6]\n",
    "        insert_pnt(newp)\n",
    "        pntNumber = pntNumber + 1\n",
    "\n",
    "TFinish = time.time()\n",
    "print(\"Joined West+East\")\n",
    "print(len(MasterParPoints))\n",
    "print('Time  : {:>9.2f}'.format(TFinish - TStart))\n",
    "PaivaPP_WE = MasterParPoints.copy()\n",
    "len(PaivaPP_WE)"
   ]
  },
  {
   "cell_type": "code",
   "execution_count": 40,
   "metadata": {},
   "outputs": [
    {
     "name": "stdout",
     "output_type": "stream",
     "text": [
      "2.6585 2.6824000000000003\n",
      "3.1125 3.1482\n",
      "20.286 20.382\n"
     ]
    },
    {
     "data": {
      "image/png": "[encoded data removed]",
      "text/plain": [
       "<Figure size 432x432 with 1 Axes>"
      ]
     },
     "metadata": {
      "needs_background": "light"
     },
     "output_type": "display_data"
    },
    {
     "name": "stdout",
     "output_type": "stream",
     "text": [
      "Time  :     92.56\n"
     ]
    }
   ],
   "source": [
    "PPSet = PaivaPP_WE\n",
    "TStart = time.time()\n",
    "X1 = [PPSet[i][0] for i in range(len(PPSet))]\n",
    "X2 = [PPSet[i][1] for i in range(len(PPSet))]\n",
    "X3 = [PPSet[i][2] for i in range(len(PPSet))]\n",
    "x1_min = min(X1); x1_max = max(X1)\n",
    "print(x1_min, x1_max)\n",
    "x2_min = min(X2); x2_max = max(X2)\n",
    "print(x2_min, x2_max)\n",
    "x3_min = min(X3); x3_max = max(X3)\n",
    "print(x3_min, x3_max)\n",
    "#################################\n",
    "\n",
    "import numpy as np\n",
    "import matplotlib.pyplot as plt\n",
    "\n",
    "fig = plt.figure(figsize =(6,6))\n",
    "for i in range(len(X1)):\n",
    "    plt.scatter(X1[i],X2[i], color=pntclr(X3[i],x3_min, x3_max))\n",
    "plt.xlabel('x1')    \n",
    "plt.ylabel('x2')    \n",
    "plt.grid()    \n",
    "plt.show() \n",
    "TFinish = time.time()\n",
    "print('Time  : {:>9.2f}'.format(TFinish - TStart))"
   ]
  },
  {
   "cell_type": "code",
   "execution_count": 41,
   "metadata": {},
   "outputs": [
    {
     "name": "stdout",
     "output_type": "stream",
     "text": [
      "2.6585 2.6824000000000003\n",
      "3.1125 3.1482\n",
      "20.286 20.382\n"
     ]
    },
    {
     "data": {
      "image/png": "[encoded data removed]",
      "text/plain": [
       "<Figure size 432x432 with 1 Axes>"
      ]
     },
     "metadata": {
      "needs_background": "light"
     },
     "output_type": "display_data"
    },
    {
     "name": "stdout",
     "output_type": "stream",
     "text": [
      "Time  :     91.21\n"
     ]
    }
   ],
   "source": [
    "PPSet = PaivaPP_WE\n",
    "TStart = time.time()\n",
    "X1 = [PPSet[i][0] for i in range(len(PPSet))]\n",
    "X2 = [PPSet[i][1] for i in range(len(PPSet))]\n",
    "X3 = [PPSet[i][2] for i in range(len(PPSet))]\n",
    "x1_min = min(X1); x1_max = max(X1)\n",
    "print(x1_min, x1_max)\n",
    "x2_min = min(X2); x2_max = max(X2)\n",
    "print(x2_min, x2_max)\n",
    "x3_min = min(X3); x3_max = max(X3)\n",
    "print(x3_min, x3_max)\n",
    "#################################\n",
    "\n",
    "import numpy as np\n",
    "import matplotlib.pyplot as plt\n",
    "\n",
    "fig = plt.figure(figsize =(6,6))\n",
    "for i in range(len(X1)):\n",
    "    plt.scatter(X3[i],X2[i], color=pntclr(X1[i],x1_min, x1_max))\n",
    "plt.xlabel('x3')    \n",
    "plt.ylabel('x2')    \n",
    "plt.grid()    \n",
    "plt.show() \n",
    "TFinish = time.time()\n",
    "print('Time  : {:>9.2f}'.format(TFinish - TStart))"
   ]
  },
  {
   "cell_type": "code",
   "execution_count": 42,
   "metadata": {},
   "outputs": [],
   "source": [
    "PP2File(\"PaivaPP_WE.vmt\", PaivaPP_WE, \"Paiva_WE\")"
   ]
  },
  {
   "cell_type": "code",
   "execution_count": 43,
   "metadata": {},
   "outputs": [
    {
     "name": "stdout",
     "output_type": "stream",
     "text": [
      "Joining Paiva WestEast + Islands\n",
      "pnt=       769. ParPnt=   500. Time  :      0.08\n",
      "pnt=      2239. ParPnt=  1000. Time  :      0.54\n",
      "pnt=      2291. ParPnt=  1000. Time  :      0.57\n",
      "pnt=      2485. ParPnt=  1000. Time  :      0.66\n",
      "pnt=     11979. ParPnt=  1500. Time  :      3.56\n",
      "pnt=     15282. ParPnt=  1500. Time  :      4.16\n",
      "pnt=     23602. ParPnt=  2000. Time  :      5.65\n",
      "pnt=     23605. ParPnt=  2000. Time  :      5.65\n",
      "pnt=     24747. ParPnt=  2000. Time  :      5.76\n",
      "pnt=     25590. ParPnt=  2000. Time  :      5.86\n",
      "pnt=     27050. ParPnt=  2000. Time  :      6.08\n",
      "pnt=     27164. ParPnt=  2000. Time  :      6.09\n",
      "pnt=     27166. ParPnt=  2000. Time  :      6.09\n",
      "pnt=     27186. ParPnt=  2000. Time  :      6.10\n",
      "pnt=     27454. ParPnt=  2000. Time  :      6.17\n",
      "pnt=     27823. ParPnt=  2000. Time  :      6.24\n",
      "pnt=     27843. ParPnt=  2000. Time  :      6.25\n",
      "pnt=     28057. ParPnt=  2000. Time  :      6.37\n",
      "pnt=     28063. ParPnt=  2000. Time  :      6.38\n",
      "pnt=     28188. ParPnt=  2000. Time  :      6.45\n",
      "pnt=     28253. ParPnt=  2000. Time  :      6.46\n",
      "pnt=     35834. ParPnt=  2500. Time  :      9.00\n",
      "pnt=     58267. ParPnt=  3000. Time  :     13.70\n",
      "pnt=    128393. ParPnt=  3500. Time  :     20.76\n",
      "pnt=    209901. ParPnt=  4000. Time  :     27.71\n",
      "pnt=    288246. ParPnt=  4000. Time  :     39.02\n",
      "pnt=    288302. ParPnt=  4000. Time  :     39.11\n",
      "pnt=    293130. ParPnt=  4500. Time  :     44.60\n",
      "pnt=    294522. ParPnt=  4500. Time  :     46.09\n",
      "pnt=    302136. ParPnt=  4500. Time  :     54.90\n",
      "pnt=    302165. ParPnt=  4500. Time  :     54.94\n",
      "pnt=    302210. ParPnt=  4500. Time  :     54.98\n",
      "pnt=    302211. ParPnt=  4500. Time  :     54.98\n",
      "pnt=    302223. ParPnt=  4500. Time  :     55.00\n",
      "pnt=    302488. ParPnt=  4500. Time  :     55.32\n",
      "pnt=    302691. ParPnt=  4500. Time  :     55.61\n",
      "pnt=    325498. ParPnt=  5000. Time  :     77.32\n",
      "pnt=    410983. ParPnt=  5500. Time  :    130.99\n",
      "pnt=    411556. ParPnt=  5500. Time  :    131.37\n",
      "pnt=    419748. ParPnt=  5500. Time  :    139.63\n",
      "pnt=    419759. ParPnt=  5500. Time  :    139.67\n",
      "pnt=    420377. ParPnt=  5500. Time  :    141.07\n",
      "pnt=    420475. ParPnt=  5500. Time  :    141.39\n",
      "pnt=    420841. ParPnt=  5500. Time  :    142.08\n",
      "pnt=    431151. ParPnt=  6000. Time  :    155.93\n",
      "pnt=    472609. ParPnt=  6500. Time  :    198.01\n",
      "pnt=    472843. ParPnt=  6500. Time  :    198.22\n",
      "pnt=    473015. ParPnt=  6500. Time  :    198.41\n",
      "pnt=    480851. ParPnt=  6500. Time  :    203.98\n",
      "pnt=    480854. ParPnt=  6500. Time  :    203.99\n",
      "pnt=    481135. ParPnt=  6500. Time  :    204.19\n",
      "pnt=    481704. ParPnt=  6500. Time  :    204.52\n",
      "pnt=    631095. ParPnt=  7000. Time  :    275.75\n",
      "pnt=    631329. ParPnt=  7000. Time  :    275.89\n",
      "pnt=    769112. ParPnt=  7500. Time  :    326.63\n",
      "pnt=    769966. ParPnt=  7500. Time  :    326.80\n",
      "pnt=    771661. ParPnt=  7500. Time  :    326.89\n",
      "pnt=    867442. ParPnt=  8000. Time  :    377.18\n",
      "pnt=    867447. ParPnt=  8000. Time  :    377.20\n",
      "pnt=    867462. ParPnt=  8000. Time  :    377.25\n",
      "pnt=    867469. ParPnt=  8000. Time  :    377.28\n",
      "pnt=    867508. ParPnt=  8000. Time  :    377.35\n",
      "pnt=    893944. ParPnt=  8500. Time  :    407.43\n",
      "pnt=    972573. ParPnt=  9000. Time  :    462.35\n",
      "pnt=    972598. ParPnt=  9000. Time  :    462.39\n",
      "pnt=    972608. ParPnt=  9000. Time  :    462.41\n",
      "pnt=    972742. ParPnt=  9000. Time  :    462.55\n",
      "pnt=    973026. ParPnt=  9000. Time  :    462.70\n",
      "pnt=    973310. ParPnt=  9000. Time  :    462.84\n",
      "Joined Paiva WestEast+Islands\n",
      "9166\n",
      "Time  :    478.75\n"
     ]
    },
    {
     "data": {
      "text/plain": [
       "9166"
      ]
     },
     "execution_count": 43,
     "metadata": {},
     "output_type": "execute_result"
    }
   ],
   "source": [
    "MasterParPoints = []   \n",
    "\n",
    "TStart = time.time()\n",
    "pntNumber = 0\n",
    "#---------------------------------Joining Paivas\n",
    "print(\"Joining Paiva WestEast + Islands\")\n",
    "\n",
    "for i in range(len(PaivaPP_WE)):\n",
    "    for j in range(len(PaivaIslandsPPF)):\n",
    "        newp = [0,0,0,  0,0,0,0,0]\n",
    "        for k in range(3):\n",
    "            newp[k] = PaivaPP_WE[i][k] + PaivaIslandsPPF[j][k]\n",
    "        newp[5] = PaivaPP_WE[i][5]\n",
    "        newp[6] = PaivaPP_WE[i][6]\n",
    "        newp[7] = PaivaIslandsPPF[j][7]\n",
    "        insert_pnt(newp)\n",
    "        pntNumber = pntNumber + 1 \n",
    "\n",
    "TFinish = time.time()\n",
    "print(\"Joined Paiva WestEast+Islands\")\n",
    "print(len(MasterParPoints))\n",
    "print('Time  : {:>9.2f}'.format(TFinish - TStart))\n",
    "Paiva_WEI = MasterParPoints.copy()\n",
    "len(Paiva_WEI)"
   ]
  },
  {
   "cell_type": "code",
   "execution_count": null,
   "metadata": {},
   "outputs": [],
   "source": []
  },
  {
   "cell_type": "code",
   "execution_count": 44,
   "metadata": {},
   "outputs": [
    {
     "name": "stdout",
     "output_type": "stream",
     "text": [
      "2.9875000000000003 3.0281000000000002\n",
      "3.4905999999999997 3.5358\n",
      "22.649 22.793000000000003\n"
     ]
    },
    {
     "data": {
      "image/png": "[encoded data removed]",
      "text/plain": [
       "<Figure size 432x432 with 1 Axes>"
      ]
     },
     "metadata": {
      "needs_background": "light"
     },
     "output_type": "display_data"
    },
    {
     "name": "stdout",
     "output_type": "stream",
     "text": [
      "Time  :    436.54\n"
     ]
    }
   ],
   "source": [
    "PPSet = Paiva_WEI\n",
    "TStart = time.time()\n",
    "X1 = [PPSet[i][0] for i in range(len(PPSet))]\n",
    "X2 = [PPSet[i][1] for i in range(len(PPSet))]\n",
    "X3 = [PPSet[i][2] for i in range(len(PPSet))]\n",
    "x1_min = min(X1); x1_max = max(X1)\n",
    "print(x1_min, x1_max)\n",
    "x2_min = min(X2); x2_max = max(X2)\n",
    "print(x2_min, x2_max)\n",
    "x3_min = min(X3); x3_max = max(X3)\n",
    "print(x3_min, x3_max)\n",
    "#################################\n",
    "\n",
    "import numpy as np\n",
    "import matplotlib.pyplot as plt\n",
    "\n",
    "fig = plt.figure(figsize =(6,6))\n",
    "for i in range(len(X1)):\n",
    "    plt.scatter(X1[i],X2[i], color=pntclr(X3[i],x3_min, x3_max))\n",
    "plt.xlabel('x1')    \n",
    "plt.ylabel('x2')    \n",
    "plt.grid()    \n",
    "plt.show()  \n",
    "TFinish = time.time()\n",
    "print('Time  : {:>9.2f}'.format(TFinish - TStart))"
   ]
  },
  {
   "cell_type": "code",
   "execution_count": 45,
   "metadata": {},
   "outputs": [
    {
     "name": "stdout",
     "output_type": "stream",
     "text": [
      "2.9875000000000003 3.0281000000000002\n",
      "3.4905999999999997 3.5358\n",
      "22.649 22.793000000000003\n"
     ]
    },
    {
     "data": {
      "image/png": "[encoded data removed]",
      "text/plain": [
       "<Figure size 432x432 with 1 Axes>"
      ]
     },
     "metadata": {
      "needs_background": "light"
     },
     "output_type": "display_data"
    },
    {
     "name": "stdout",
     "output_type": "stream",
     "text": [
      "Time  :    437.63\n"
     ]
    }
   ],
   "source": [
    "PPSet = Paiva_WEI\n",
    "TStart = time.time()\n",
    "X1 = [PPSet[i][0] for i in range(len(PPSet))]\n",
    "X2 = [PPSet[i][1] for i in range(len(PPSet))]\n",
    "X3 = [PPSet[i][2] for i in range(len(PPSet))]\n",
    "x1_min = min(X1); x1_max = max(X1)\n",
    "print(x1_min, x1_max)\n",
    "x2_min = min(X2); x2_max = max(X2)\n",
    "print(x2_min, x2_max)\n",
    "x3_min = min(X3); x3_max = max(X3)\n",
    "print(x3_min, x3_max)\n",
    "#################################\n",
    "\n",
    "import numpy as np\n",
    "import matplotlib.pyplot as plt\n",
    "\n",
    "fig = plt.figure(figsize =(6,6))\n",
    "for i in range(len(X1)):\n",
    "    plt.scatter(X1[i],X3[i], color=pntclr(X2[i],x2_min, x2_max))\n",
    "plt.xlabel('x1')    \n",
    "plt.ylabel('x3')    \n",
    "plt.grid()    \n",
    "plt.show()    \n",
    "TFinish = time.time()\n",
    "print('Time  : {:>9.2f}'.format(TFinish - TStart))"
   ]
  },
  {
   "cell_type": "code",
   "execution_count": 46,
   "metadata": {},
   "outputs": [
    {
     "name": "stdout",
     "output_type": "stream",
     "text": [
      "2.9875000000000003 3.0281000000000002\n",
      "3.4905999999999997 3.5358\n",
      "22.649 22.793000000000003\n"
     ]
    },
    {
     "data": {
      "image/png": "[encoded data removed]",
      "text/plain": [
       "<Figure size 432x432 with 1 Axes>"
      ]
     },
     "metadata": {
      "needs_background": "light"
     },
     "output_type": "display_data"
    },
    {
     "name": "stdout",
     "output_type": "stream",
     "text": [
      "Time  :    436.46\n"
     ]
    }
   ],
   "source": [
    "PPSet = Paiva_WEI\n",
    "TStart = time.time()\n",
    "X1 = [PPSet[i][0] for i in range(len(PPSet))]\n",
    "X2 = [PPSet[i][1] for i in range(len(PPSet))]\n",
    "X3 = [PPSet[i][2] for i in range(len(PPSet))]\n",
    "x1_min = min(X1); x1_max = max(X1)\n",
    "print(x1_min, x1_max)\n",
    "x2_min = min(X2); x2_max = max(X2)\n",
    "print(x2_min, x2_max)\n",
    "x3_min = min(X3); x3_max = max(X3)\n",
    "print(x3_min, x3_max)\n",
    "#################################\n",
    "\n",
    "import numpy as np\n",
    "import matplotlib.pyplot as plt\n",
    "\n",
    "fig = plt.figure(figsize =(6,6))\n",
    "for i in range(len(X1)):\n",
    "    plt.scatter(X2[i],X3[i], color=pntclr(X1[i],x1_min, x1_max))\n",
    "plt.xlabel('x2')    \n",
    "plt.ylabel('x3')    \n",
    "plt.grid()    \n",
    "plt.show()   \n",
    "TFinish = time.time()\n",
    "print('Time  : {:>9.2f}'.format(TFinish - TStart))"
   ]
  },
  {
   "cell_type": "code",
   "execution_count": null,
   "metadata": {},
   "outputs": [],
   "source": []
  },
  {
   "cell_type": "code",
   "execution_count": 47,
   "metadata": {},
   "outputs": [
    {
     "data": {
      "text/plain": [
       "'\\nMasterParPoints = []\\npntNumber = 0\\n\\nTStart = time.time()\\n#--------------------------------Direct joining Paivas\\nprint(\"Joining Paiva West + East + Islands directly\")\\n\\nfor i in range(len(PaivaWestPPF)):\\n    for j in range(len(PaivaEastPPF)):\\n        for r in range(len(PaivaIslandsPPF)):            \\n            newp = [0,0,0,  0,0,0,0,0]\\n            for k in range(3):                \\n                newp[k] = PaivaWestPPF[i][k] + PaivaEastPPF[j][k] + PaivaIslandsPPF[r][k]\\n            newp[5] = PaivaWestPPF[i][5]\\n            newp[6] = PaivaEastPPF[j][6]\\n            newp[7] = PaivaIslandsPPF[r][7]\\n            pntNumber = pntNumber + 1\\n            insert_pnt(newp)\\n\\nTFinish = time.time()\\nprint(\"Joined West+East+Islands\")\\nprint(len(MasterParPoints))\\nprint(\\'Time  : {:>9.2f}\\'.format(TFinish - TStart))\\nPaiva_d = MasterParPoints.copy()\\nlen(Paiva_d)\\n'"
      ]
     },
     "execution_count": 47,
     "metadata": {},
     "output_type": "execute_result"
    }
   ],
   "source": [
    "# West + East + Islands  DIRECTLY\n",
    "\"\"\"\n",
    "MasterParPoints = []\n",
    "pntNumber = 0\n",
    "\n",
    "TStart = time.time()\n",
    "#--------------------------------Direct joining Paivas\n",
    "print(\"Joining Paiva West + East + Islands directly\")\n",
    "\n",
    "for i in range(len(PaivaWestPPF)):\n",
    "    for j in range(len(PaivaEastPPF)):\n",
    "        for r in range(len(PaivaIslandsPPF)):            \n",
    "            newp = [0,0,0,  0,0,0,0,0]\n",
    "            for k in range(3):                \n",
    "                newp[k] = PaivaWestPPF[i][k] + PaivaEastPPF[j][k] + PaivaIslandsPPF[r][k]\n",
    "            newp[5] = PaivaWestPPF[i][5]\n",
    "            newp[6] = PaivaEastPPF[j][6]\n",
    "            newp[7] = PaivaIslandsPPF[r][7]\n",
    "            pntNumber = pntNumber + 1\n",
    "            insert_pnt(newp)\n",
    "\n",
    "TFinish = time.time()\n",
    "print(\"Joined West+East+Islands\")\n",
    "print(len(MasterParPoints))\n",
    "print('Time  : {:>9.2f}'.format(TFinish - TStart))\n",
    "Paiva_d = MasterParPoints.copy()\n",
    "len(Paiva_d)\n",
    "\"\"\""
   ]
  },
  {
   "cell_type": "code",
   "execution_count": 48,
   "metadata": {},
   "outputs": [],
   "source": [
    "#########################################"
   ]
  },
  {
   "cell_type": "code",
   "execution_count": 49,
   "metadata": {},
   "outputs": [],
   "source": [
    "PP2File(\"PaivaPP_WEI.vmt\", Paiva_WEI, \"Paiva\")"
   ]
  },
  {
   "cell_type": "code",
   "execution_count": 50,
   "metadata": {},
   "outputs": [
    {
     "data": {
      "text/plain": [
       "[[3.0186, 3.5106, 22.676, 0, 0, 3, 117, 103],\n",
       " [3.0184, 3.5104999999999995, 22.674999999999997, 0, 0, 16, 115, 103],\n",
       " [3.0199, 3.5135000000000005, 22.683999999999997, 0, 0, 21, 60, 103],\n",
       " [3.0203, 3.5145999999999997, 22.685999999999996, 0, 0, 23, 60, 103],\n",
       " [3.0201000000000002, 3.5141, 22.685999999999996, 0, 0, 23, 115, 103]]"
      ]
     },
     "execution_count": 50,
     "metadata": {},
     "output_type": "execute_result"
    }
   ],
   "source": [
    "Paiva_WEI[:5]"
   ]
  },
  {
   "cell_type": "code",
   "execution_count": 51,
   "metadata": {},
   "outputs": [],
   "source": [
    "Paiva_WEI2 = readPPfile(\"PaivaPP_WEI.vmt\")"
   ]
  },
  {
   "cell_type": "code",
   "execution_count": 52,
   "metadata": {},
   "outputs": [
    {
     "data": {
      "text/plain": [
       "[[3.0186, 3.5106, 22.676, 0.0, 0.0, 3.0, 117.0, 103.0],\n",
       " [3.0184, 3.5105, 22.675, 0.0, 0.0, 16.0, 115.0, 103.0],\n",
       " [3.0199, 3.5135, 22.684, 0.0, 0.0, 21.0, 60.0, 103.0],\n",
       " [3.0203, 3.5146, 22.686, 0.0, 0.0, 23.0, 60.0, 103.0],\n",
       " [3.0201, 3.5141, 22.686, 0.0, 0.0, 23.0, 115.0, 103.0]]"
      ]
     },
     "execution_count": 52,
     "metadata": {},
     "output_type": "execute_result"
    }
   ],
   "source": [
    "Paiva_WEI2[:5]"
   ]
  },
  {
   "cell_type": "code",
   "execution_count": 53,
   "metadata": {
    "scrolled": true
   },
   "outputs": [
    {
     "name": "stdout",
     "output_type": "stream",
     "text": [
      "pnt=       527. ParPnt=   500. Time  :      0.08\n",
      "pnt=      1137. ParPnt=  1000. Time  :      0.31\n",
      "pnt=      1138. ParPnt=  1000. Time  :      0.31\n",
      "pnt=      1702. ParPnt=  1500. Time  :      0.67\n",
      "pnt=      2412. ParPnt=  2000. Time  :      1.23\n",
      "pnt=      2413. ParPnt=  2000. Time  :      1.23\n",
      "pnt=      3008. ParPnt=  2500. Time  :      1.91\n",
      "pnt=      3590. ParPnt=  3000. Time  :      2.75\n",
      "pnt=      4252. ParPnt=  3500. Time  :      3.83\n",
      "pnt=      4864. ParPnt=  4000. Time  :      4.97\n",
      "pnt=      5563. ParPnt=  4500. Time  :      6.39\n",
      "pnt=      6317. ParPnt=  5000. Time  :      8.16\n",
      "pnt=      7044. ParPnt=  5500. Time  :     10.00\n",
      "pnt=      7634. ParPnt=  6000. Time  :     11.79\n",
      "pnt=      8307. ParPnt=  6500. Time  :     13.96\n",
      "pnt=      9114. ParPnt=  7000. Time  :     16.66\n",
      "pnt=      9116. ParPnt=  7000. Time  :     16.66\n",
      "pnt=      9117. ParPnt=  7000. Time  :     16.67\n",
      "pnt=      9119. ParPnt=  7000. Time  :     16.68\n",
      "7025\n",
      "Time  :     16.81\n"
     ]
    },
    {
     "data": {
      "text/plain": [
       "7025"
      ]
     },
     "execution_count": 53,
     "metadata": {},
     "output_type": "execute_result"
    }
   ],
   "source": [
    "Paiva_WEIF = filter(Paiva_WEI2, 0)\n",
    "len(Paiva_WEIF)"
   ]
  },
  {
   "cell_type": "code",
   "execution_count": 54,
   "metadata": {},
   "outputs": [
    {
     "data": {
      "text/plain": [
       "[[3.0186, 3.5106, 22.676, 0.0, 0.0, 3.0, 117.0, 103.0],\n",
       " [3.0199, 3.5135, 22.684, 0.0, 0.0, 21.0, 60.0, 103.0],\n",
       " [3.0203, 3.5146, 22.686, 0.0, 0.0, 23.0, 60.0, 103.0],\n",
       " [3.0204, 3.5192, 22.703, 0.0, 0.0, 23.0, 163.0, 103.0],\n",
       " [3.0187, 3.5156, 22.708, 0.0, 0.0, 23.0, 211.0, 103.0]]"
      ]
     },
     "execution_count": 54,
     "metadata": {},
     "output_type": "execute_result"
    }
   ],
   "source": [
    "Paiva_WEIF[:5]"
   ]
  },
  {
   "cell_type": "code",
   "execution_count": 55,
   "metadata": {},
   "outputs": [
    {
     "name": "stdout",
     "output_type": "stream",
     "text": [
      "2.9875 3.0281\n",
      "3.4906 3.5357\n",
      "22.649 22.793\n"
     ]
    },
    {
     "data": {
      "image/png": "[encoded data removed]",
      "text/plain": [
       "<Figure size 432x432 with 1 Axes>"
      ]
     },
     "metadata": {
      "needs_background": "light"
     },
     "output_type": "display_data"
    },
    {
     "name": "stdout",
     "output_type": "stream",
     "text": [
      "Time  :    283.08\n"
     ]
    }
   ],
   "source": [
    "PPSet = Paiva_WEIF\n",
    "TStart = time.time()\n",
    "X1 = [PPSet[i][0] for i in range(len(PPSet))]\n",
    "X2 = [PPSet[i][1] for i in range(len(PPSet))]\n",
    "X3 = [PPSet[i][2] for i in range(len(PPSet))]\n",
    "x1_min = min(X1); x1_max = max(X1)\n",
    "print(x1_min, x1_max)\n",
    "x2_min = min(X2); x2_max = max(X2)\n",
    "print(x2_min, x2_max)\n",
    "x3_min = min(X3); x3_max = max(X3)\n",
    "print(x3_min, x3_max)\n",
    "#################################\n",
    "\n",
    "import numpy as np\n",
    "import matplotlib.pyplot as plt\n",
    "\n",
    "fig = plt.figure(figsize =(6,6))\n",
    "for i in range(len(X1)):\n",
    "    plt.scatter(X1[i],X2[i], color=pntclr(X3[i],x3_min, x3_max))\n",
    "plt.xlabel('x1')    \n",
    "plt.ylabel('x2')    \n",
    "plt.grid()    \n",
    "plt.show()  \n",
    "TFinish = time.time()\n",
    "print('Time  : {:>9.2f}'.format(TFinish - TStart))"
   ]
  },
  {
   "cell_type": "markdown",
   "metadata": {},
   "source": [
    "# ===================================="
   ]
  },
  {
   "cell_type": "code",
   "execution_count": 56,
   "metadata": {},
   "outputs": [],
   "source": [
    "# Joining ParPen + Paiva "
   ]
  },
  {
   "cell_type": "code",
   "execution_count": null,
   "metadata": {},
   "outputs": [],
   "source": []
  },
  {
   "cell_type": "code",
   "execution_count": 57,
   "metadata": {},
   "outputs": [
    {
     "data": {
      "text/plain": [
       "(226, 7025, 1587650)"
      ]
     },
     "execution_count": 57,
     "metadata": {},
     "output_type": "execute_result"
    }
   ],
   "source": [
    "len(ParPenPPF), len(Paiva_WEIF), len(ParPenPPF)*len(Paiva_WEIF) "
   ]
  },
  {
   "cell_type": "code",
   "execution_count": 58,
   "metadata": {},
   "outputs": [
    {
     "name": "stdout",
     "output_type": "stream",
     "text": [
      "Joining ParPen + Paiva\n",
      "pnt=       499. ParPnt=   500. Time  :      0.08\n",
      "pnt=       999. ParPnt=  1000. Time  :      0.29\n",
      "pnt=      1499. ParPnt=  1500. Time  :      0.62\n",
      "pnt=      1999. ParPnt=  2000. Time  :      1.09\n",
      "pnt=      2499. ParPnt=  2500. Time  :      1.69\n",
      "pnt=      2999. ParPnt=  3000. Time  :      2.43\n",
      "pnt=      3499. ParPnt=  3500. Time  :      3.28\n",
      "pnt=      3999. ParPnt=  4000. Time  :      4.24\n",
      "pnt=      4499. ParPnt=  4500. Time  :      5.39\n",
      "pnt=      4999. ParPnt=  5000. Time  :      6.68\n",
      "pnt=      5499. ParPnt=  5500. Time  :      8.09\n",
      "pnt=      5999. ParPnt=  6000. Time  :      9.62\n",
      "pnt=      6499. ParPnt=  6500. Time  :     11.27\n",
      "pnt=      6999. ParPnt=  7000. Time  :     13.05\n",
      "pnt=      9010. ParPnt=  7500. Time  :     16.63\n",
      "pnt=     12005. ParPnt=  8000. Time  :     22.00\n",
      "pnt=     17072. ParPnt=  8500. Time  :     29.35\n",
      "pnt=     17074. ParPnt=  8500. Time  :     29.35\n",
      "pnt=     17075. ParPnt=  8500. Time  :     29.36\n",
      "pnt=     17076. ParPnt=  8500. Time  :     29.36\n",
      "pnt=     17077. ParPnt=  8500. Time  :     29.37\n",
      "pnt=     21335. ParPnt=  8500. Time  :     36.97\n",
      "pnt=     22205. ParPnt=  6000. Time  :     40.53\n",
      "pnt=     22209. ParPnt=  6000. Time  :     40.55\n",
      "pnt=     23775. ParPnt=  4000. Time  :     45.25\n",
      "pnt=     23866. ParPnt=  4000. Time  :     45.47\n",
      "pnt=     23868. ParPnt=  4000. Time  :     45.48\n",
      "pnt=     24427. ParPnt=  4500. Time  :     46.89\n",
      "pnt=     25523. ParPnt=  5000. Time  :     50.08\n",
      "pnt=     26289. ParPnt=  5500. Time  :     52.43\n",
      "pnt=     26793. ParPnt=  6000. Time  :     54.23\n",
      "pnt=     27293. ParPnt=  6500. Time  :     56.14\n",
      "pnt=     27793. ParPnt=  7000. Time  :     58.13\n",
      "pnt=     29268. ParPnt=  7000. Time  :     60.15\n",
      "pnt=     29295. ParPnt=  7000. Time  :     60.26\n",
      "pnt=     30628. ParPnt=  7000. Time  :     63.87\n",
      "pnt=     30676. ParPnt=  7000. Time  :     64.03\n",
      "pnt=     30685. ParPnt=  7000. Time  :     64.06\n",
      "pnt=     30699. ParPnt=  7000. Time  :     64.12\n",
      "pnt=     30718. ParPnt=  7000. Time  :     64.18\n",
      "pnt=     30740. ParPnt=  7000. Time  :     64.25\n",
      "pnt=     32125. ParPnt=  7500. Time  :     67.43\n",
      "pnt=     32126. ParPnt=  7500. Time  :     67.43\n",
      "pnt=     33495. ParPnt=  8000. Time  :     70.30\n",
      "pnt=     34199. ParPnt=  8500. Time  :     73.23\n",
      "pnt=     41132. ParPnt=  9000. Time  :     80.99\n",
      "pnt=     68016. ParPnt=  9500. Time  :    104.23\n",
      "pnt=     74797. ParPnt= 10000. Time  :    113.03\n",
      "pnt=     95003. ParPnt= 10000. Time  :    138.51\n",
      "pnt=     95020. ParPnt= 10000. Time  :    138.53\n",
      "pnt=     98104. ParPnt= 10500. Time  :    147.86\n",
      "pnt=    106596. ParPnt= 10000. Time  :    162.35\n",
      "pnt=    106662. ParPnt= 10000. Time  :    162.72\n",
      "pnt=    107920. ParPnt=  9500. Time  :    169.08\n",
      "pnt=    107924. ParPnt=  9500. Time  :    169.10\n",
      "pnt=    109879. ParPnt=  9500. Time  :    177.09\n",
      "pnt=    112217. ParPnt= 10000. Time  :    183.74\n",
      "pnt=    112241. ParPnt= 10000. Time  :    183.82\n",
      "pnt=    112244. ParPnt= 10000. Time  :    183.84\n",
      "pnt=    114430. ParPnt= 10000. Time  :    190.81\n",
      "pnt=    115730. ParPnt= 10000. Time  :    195.18\n",
      "pnt=    115746. ParPnt= 10000. Time  :    195.26\n",
      "pnt=    115783. ParPnt= 10000. Time  :    195.37\n",
      "pnt=    115792. ParPnt= 10000. Time  :    195.41\n",
      "pnt=    115794. ParPnt= 10000. Time  :    195.44\n",
      "pnt=    115795. ParPnt= 10000. Time  :    195.45\n",
      "pnt=    116408. ParPnt= 10000. Time  :    198.31\n",
      "pnt=    116410. ParPnt= 10000. Time  :    198.32\n",
      "pnt=    116645. ParPnt= 10000. Time  :    199.76\n",
      "pnt=    127364. ParPnt= 10500. Time  :    217.89\n",
      "pnt=    127376. ParPnt= 10500. Time  :    217.96\n",
      "pnt=    127939. ParPnt= 10500. Time  :    219.57\n",
      "pnt=    127949. ParPnt= 10500. Time  :    219.64\n",
      "pnt=    127966. ParPnt= 10500. Time  :    219.75\n",
      "pnt=    127967. ParPnt= 10500. Time  :    219.76\n",
      "pnt=    127968. ParPnt= 10500. Time  :    219.76\n",
      "pnt=    127969. ParPnt= 10500. Time  :    219.77\n",
      "pnt=    127970. ParPnt= 10500. Time  :    219.78\n",
      "pnt=    128122. ParPnt= 10500. Time  :    220.57\n",
      "pnt=    128124. ParPnt= 10500. Time  :    220.58\n",
      "pnt=    131234. ParPnt= 11000. Time  :    228.09\n",
      "pnt=    131262. ParPnt= 11000. Time  :    228.19\n",
      "pnt=    131263. ParPnt= 11000. Time  :    228.20\n",
      "pnt=    131269. ParPnt= 11000. Time  :    228.23\n",
      "pnt=    131291. ParPnt= 11000. Time  :    228.34\n",
      "pnt=    148945. ParPnt= 11500. Time  :    251.33\n",
      "pnt=    148946. ParPnt= 11500. Time  :    251.34\n",
      "pnt=    149015. ParPnt= 11500. Time  :    251.66\n",
      "pnt=    149108. ParPnt= 11500. Time  :    252.25\n",
      "pnt=    149124. ParPnt= 11500. Time  :    252.34\n",
      "pnt=    149129. ParPnt= 11500. Time  :    252.37\n",
      "pnt=    149170. ParPnt= 11500. Time  :    252.45\n",
      "pnt=    149177. ParPnt= 11500. Time  :    252.49\n",
      "pnt=    149178. ParPnt= 11500. Time  :    252.50\n",
      "pnt=    173387. ParPnt=  9500. Time  :    317.33\n",
      "pnt=    175171. ParPnt= 10000. Time  :    323.76\n",
      "pnt=    179718. ParPnt= 10500. Time  :    339.17\n",
      "pnt=    191119. ParPnt= 11000. Time  :    359.21\n",
      "pnt=    191150. ParPnt= 11000. Time  :    359.40\n",
      "pnt=    191157. ParPnt= 11000. Time  :    359.45\n",
      "pnt=    191167. ParPnt= 11000. Time  :    359.53\n",
      "pnt=    191274. ParPnt= 11000. Time  :    360.27\n",
      "pnt=    194263. ParPnt= 11500. Time  :    368.78\n",
      "pnt=    208741. ParPnt= 12000. Time  :    395.90\n",
      "pnt=    239908. ParPnt= 12000. Time  :    439.57\n",
      "pnt=    240095. ParPnt= 11000. Time  :    441.18\n",
      "pnt=    240142. ParPnt= 11000. Time  :    441.60\n",
      "pnt=    240970. ParPnt= 10500. Time  :    447.22\n",
      "pnt=    241871. ParPnt= 10000. Time  :    452.08\n",
      "pnt=    241878. ParPnt= 10000. Time  :    452.13\n",
      "pnt=    241893. ParPnt= 10000. Time  :    452.22\n",
      "pnt=    241899. ParPnt= 10000. Time  :    452.26\n",
      "pnt=    243943. ParPnt= 10500. Time  :    462.52\n",
      "pnt=    245450. ParPnt= 11000. Time  :    469.76\n",
      "pnt=    245457. ParPnt= 11000. Time  :    469.78\n",
      "pnt=    245458. ParPnt= 11000. Time  :    469.79\n",
      "pnt=    245479. ParPnt= 11000. Time  :    469.89\n",
      "pnt=    250551. ParPnt= 11500. Time  :    490.42\n",
      "pnt=    330906. ParPnt= 12000. Time  :    553.75\n",
      "pnt=    330935. ParPnt= 12000. Time  :    553.80\n",
      "pnt=    330940. ParPnt= 12000. Time  :    553.83\n",
      "pnt=    330992. ParPnt= 12000. Time  :    554.17\n",
      "pnt=    330993. ParPnt= 12000. Time  :    554.18\n",
      "pnt=    330994. ParPnt= 12000. Time  :    554.19\n",
      "pnt=    443542. ParPnt= 12500. Time  :    681.55\n",
      "pnt=    477296. ParPnt= 13000. Time  :    720.38\n",
      "pnt=    477325. ParPnt= 13000. Time  :    720.42\n",
      "pnt=    477331. ParPnt= 13000. Time  :    720.43\n",
      "pnt=    477333. ParPnt= 13000. Time  :    720.45\n",
      "pnt=    477339. ParPnt= 13000. Time  :    720.46\n",
      "pnt=    477344. ParPnt= 13000. Time  :    720.48\n",
      "pnt=    477354. ParPnt= 13000. Time  :    720.51\n",
      "pnt=    644929. ParPnt= 13500. Time  :    865.04\n",
      "pnt=    652191. ParPnt= 14000. Time  :    885.18\n",
      "pnt=    652192. ParPnt= 14000. Time  :    885.20\n",
      "pnt=    652194. ParPnt= 14000. Time  :    885.21\n",
      "pnt=    652195. ParPnt= 14000. Time  :    885.22\n",
      "pnt=    652197. ParPnt= 14000. Time  :    885.24\n",
      "pnt=    656235. ParPnt= 14000. Time  :    894.00\n",
      "pnt=    656237. ParPnt= 14000. Time  :    894.02\n",
      "pnt=    673400. ParPnt= 14000. Time  :    931.39\n",
      "pnt=    673401. ParPnt= 14000. Time  :    931.41\n",
      "pnt=    673402. ParPnt= 14000. Time  :    931.42\n",
      "pnt=    703876. ParPnt= 14000. Time  :    975.07\n",
      "pnt=    703877. ParPnt= 14000. Time  :    975.08\n",
      "pnt=    703880. ParPnt= 14000. Time  :    975.11\n",
      "pnt=    725078. ParPnt= 14000. Time  :   1010.22\n",
      "pnt=    754009. ParPnt= 14500. Time  :   1066.22\n",
      "pnt=    754016. ParPnt= 14500. Time  :   1066.24\n",
      "pnt=    754017. ParPnt= 14500. Time  :   1066.25\n",
      "pnt=   1026132. ParPnt= 15000. Time  :   1321.59\n",
      "pnt=   1037008. ParPnt= 15500. Time  :   1340.16\n",
      "pnt=   1064618. ParPnt= 14500. Time  :   1398.49\n",
      "pnt=   1064632. ParPnt= 14500. Time  :   1398.58\n",
      "pnt=   1064659. ParPnt= 14500. Time  :   1398.78\n",
      "pnt=   1064880. ParPnt= 14500. Time  :   1400.56\n",
      "pnt=   1064895. ParPnt= 14500. Time  :   1400.75\n",
      "pnt=   1064906. ParPnt= 14500. Time  :   1400.90\n",
      "pnt=   1064908. ParPnt= 14500. Time  :   1400.93\n",
      "pnt=   1065009. ParPnt= 14500. Time  :   1402.18\n",
      "pnt=   1067510. ParPnt= 15000. Time  :   1414.15\n",
      "pnt=   1067538. ParPnt= 15000. Time  :   1414.27\n",
      "pnt=   1067567. ParPnt= 15000. Time  :   1414.39\n",
      "pnt=   1067568. ParPnt= 15000. Time  :   1414.41\n",
      "pnt=   1067577. ParPnt= 15000. Time  :   1414.51\n",
      "pnt=   1125452. ParPnt= 15500. Time  :   1547.08\n",
      "pnt=   1125456. ParPnt= 15500. Time  :   1547.14\n",
      "pnt=   1125457. ParPnt= 15500. Time  :   1547.15\n",
      "pnt=   1126673. ParPnt= 15500. Time  :   1556.43\n",
      "pnt=   1126674. ParPnt= 15500. Time  :   1556.45\n",
      "pnt=   1126676. ParPnt= 15500. Time  :   1556.47\n",
      "pnt=   1126677. ParPnt= 15500. Time  :   1556.48\n",
      "pnt=   1126678. ParPnt= 15500. Time  :   1556.50\n",
      "pnt=   1126960. ParPnt= 15500. Time  :   1558.67\n",
      "pnt=   1128120. ParPnt= 15500. Time  :   1566.58\n",
      "pnt=   1290575. ParPnt= 16000. Time  :   1834.43\n",
      "pnt=   1354650. ParPnt= 16500. Time  :   1969.05\n",
      "pnt=   1361571. ParPnt= 16500. Time  :   1982.97\n",
      "pnt=   1361575. ParPnt= 16500. Time  :   1983.00\n",
      "pnt=   1361576. ParPnt= 16500. Time  :   1983.02\n",
      "pnt=   1361582. ParPnt= 16500. Time  :   1983.04\n",
      "pnt=   1369190. ParPnt= 16000. Time  :   2014.29\n",
      "pnt=   1455833. ParPnt= 16500. Time  :   2231.45\n",
      "pnt=   1456586. ParPnt= 16500. Time  :   2233.55\n",
      "pnt=   1456587. ParPnt= 16500. Time  :   2233.57\n",
      "pnt=   1456703. ParPnt= 16500. Time  :   2234.46\n",
      "pnt=   1456860. ParPnt= 16500. Time  :   2235.35\n",
      "pnt=   1456928. ParPnt= 16500. Time  :   2235.69\n",
      "pnt=   1456929. ParPnt= 16500. Time  :   2235.71\n",
      "pnt=   1456930. ParPnt= 16500. Time  :   2235.73\n",
      "pnt=   1456931. ParPnt= 16500. Time  :   2235.74\n",
      "pnt=   1456932. ParPnt= 16500. Time  :   2235.76\n",
      "pnt=   1456933. ParPnt= 16500. Time  :   2235.77\n",
      "Joined ParPen + Paiva\n",
      "16901\n",
      "Time  :   2545.56\n"
     ]
    },
    {
     "data": {
      "text/plain": [
       "16901"
      ]
     },
     "execution_count": 58,
     "metadata": {},
     "output_type": "execute_result"
    }
   ],
   "source": [
    "MasterParPoints = []   \n",
    "\n",
    "TStart = time.time()\n",
    "pntNumber = 0\n",
    "#---------------------------------Joining Paivas\n",
    "print(\"Joining ParPen + Paiva\")\n",
    "\n",
    "for i in range(len(ParPenPPF)):\n",
    "    for j in range(len(Paiva_WEIF)):\n",
    "        newp = [0,0,0,  0,0,0,0,0]\n",
    "        for k in range(3):\n",
    "            newp[k] = ParPenPPF[i][k] + Paiva_WEIF[j][k]\n",
    "        newp[3] = ParPenPPF[i][3]\n",
    "        newp[4] = ParPenPPF[i][4]\n",
    "        newp[5] = Paiva_WEIF[j][5]\n",
    "        newp[6] = Paiva_WEIF[j][6]\n",
    "        newp[7] = Paiva_WEIF[j][7]\n",
    "        insert_pnt(newp)\n",
    "        pntNumber = pntNumber + 1 \n",
    "\n",
    "TFinish = time.time()\n",
    "print(\"Joined ParPen + Paiva\")\n",
    "print(len(MasterParPoints))\n",
    "print('Time  : {:>9.2f}'.format(TFinish - TStart))\n",
    "ValeSousaPP = MasterParPoints.copy()\n",
    "len(ValeSousaPP)"
   ]
  },
  {
   "cell_type": "code",
   "execution_count": 67,
   "metadata": {},
   "outputs": [],
   "source": [
    "PP2File(\"WithLock\"+str(len(ValeSousaPP))+\".vmt\", ValeSousaPP, \"VSousa\")"
   ]
  },
  {
   "cell_type": "code",
   "execution_count": 68,
   "metadata": {},
   "outputs": [
    {
     "data": {
      "text/plain": [
       "[[5.842499999999999,\n",
       "  5.9681999999999995,\n",
       "  43.635000000000005,\n",
       "  1,\n",
       "  0,\n",
       "  155.0,\n",
       "  39.0,\n",
       "  103.0],\n",
       " [5.845, 5.9738, 43.617000000000004, 1, 0, 202.0, 39.0, 65.0],\n",
       " [5.8435, 5.9714, 43.633, 1, 0, 202.0, 39.0, 103.0],\n",
       " [5.843299999999999, 5.9709, 43.633, 1, 0, 202.0, 81.0, 103.0],\n",
       " [5.8453, 5.974, 43.615, 1, 0, 212.0, 39.0, 65.0]]"
      ]
     },
     "execution_count": 68,
     "metadata": {},
     "output_type": "execute_result"
    }
   ],
   "source": [
    "ValeSousaPP[:5]"
   ]
  },
  {
   "cell_type": "code",
   "execution_count": 69,
   "metadata": {},
   "outputs": [
    {
     "data": {
      "text/plain": [
       "[[5.8425, 5.9682, 43.635, 1.0, 0.0, 155.0, 39.0, 103.0],\n",
       " [5.845, 5.9738, 43.617, 1.0, 0.0, 202.0, 39.0, 65.0],\n",
       " [5.8435, 5.9714, 43.633, 1.0, 0.0, 202.0, 39.0, 103.0],\n",
       " [5.8433, 5.9709, 43.633, 1.0, 0.0, 202.0, 81.0, 103.0],\n",
       " [5.8453, 5.974, 43.615, 1.0, 0.0, 212.0, 39.0, 65.0]]"
      ]
     },
     "execution_count": 69,
     "metadata": {},
     "output_type": "execute_result"
    }
   ],
   "source": [
    "ValeSousaPP2 = readPPfile(\"WithLock\"+str(len(ValeSousaPP))+\".vmt\")\n",
    "ValeSousaPP2[:5]"
   ]
  },
  {
   "cell_type": "code",
   "execution_count": 70,
   "metadata": {},
   "outputs": [
    {
     "name": "stdout",
     "output_type": "stream",
     "text": [
      "pnt=       508. ParPnt=   500. Time  :      0.07\n",
      "pnt=      1018. ParPnt=  1000. Time  :      0.28\n",
      "pnt=      1523. ParPnt=  1500. Time  :      0.68\n",
      "pnt=      2023. ParPnt=  2000. Time  :      1.19\n",
      "pnt=      2536. ParPnt=  2500. Time  :      1.86\n",
      "pnt=      3041. ParPnt=  3000. Time  :      2.66\n",
      "pnt=      3572. ParPnt=  3500. Time  :      3.61\n",
      "pnt=      4130. ParPnt=  4000. Time  :      4.69\n",
      "pnt=      4689. ParPnt=  4500. Time  :      6.02\n",
      "pnt=      5204. ParPnt=  5000. Time  :      7.46\n",
      "pnt=      5738. ParPnt=  5500. Time  :      9.27\n",
      "pnt=      6335. ParPnt=  6000. Time  :     11.31\n",
      "pnt=      6336. ParPnt=  6000. Time  :     11.31\n",
      "pnt=      6920. ParPnt=  6500. Time  :     13.47\n",
      "pnt=      7534. ParPnt=  7000. Time  :     15.86\n",
      "pnt=      8057. ParPnt=  7500. Time  :     18.23\n",
      "pnt=      8594. ParPnt=  8000. Time  :     20.87\n",
      "pnt=      9147. ParPnt=  8500. Time  :     23.75\n",
      "pnt=      9795. ParPnt=  9000. Time  :     27.17\n",
      "pnt=     10403. ParPnt=  9500. Time  :     30.73\n",
      "pnt=     10940. ParPnt= 10000. Time  :     34.37\n",
      "pnt=     11475. ParPnt= 10500. Time  :     38.27\n",
      "pnt=     12099. ParPnt= 11000. Time  :     42.37\n",
      "pnt=     12667. ParPnt= 11500. Time  :     46.54\n",
      "pnt=     13347. ParPnt= 12000. Time  :     51.38\n",
      "pnt=     14065. ParPnt= 12500. Time  :     56.62\n",
      "pnt=     14581. ParPnt= 13000. Time  :     61.27\n",
      "pnt=     15088. ParPnt= 13500. Time  :     66.12\n",
      "pnt=     15781. ParPnt= 14000. Time  :     72.16\n",
      "pnt=     16512. ParPnt= 14500. Time  :     78.43\n",
      "14833\n",
      "Time  :     82.43\n"
     ]
    },
    {
     "data": {
      "text/plain": [
       "14833"
      ]
     },
     "execution_count": 70,
     "metadata": {},
     "output_type": "execute_result"
    }
   ],
   "source": [
    "ValeSousaPP2F = filter(ValeSousaPP2, 0)\n",
    "len(ValeSousaPP2F)"
   ]
  },
  {
   "cell_type": "code",
   "execution_count": 71,
   "metadata": {},
   "outputs": [
    {
     "data": {
      "text/plain": [
       "[[5.845, 5.9738, 43.617, 1.0, 0.0, 202.0, 39.0, 65.0],\n",
       " [5.8435, 5.9714, 43.633, 1.0, 0.0, 202.0, 39.0, 103.0],\n",
       " [5.8463, 5.9804, 43.608, 1.0, 0.0, 214.0, 35.0, 65.0],\n",
       " [5.8448, 5.978, 43.624, 1.0, 0.0, 214.0, 35.0, 103.0],\n",
       " [5.8441, 5.9715, 43.629, 1.0, 0.0, 214.0, 39.0, 103.0]]"
      ]
     },
     "execution_count": 71,
     "metadata": {},
     "output_type": "execute_result"
    }
   ],
   "source": [
    "ValeSousaPP2F[:5]"
   ]
  },
  {
   "cell_type": "code",
   "execution_count": 72,
   "metadata": {},
   "outputs": [],
   "source": [
    "PP2File(\"Sequence\"+str(len(ValeSousaPP2F))+\".vmt\", ValeSousaPP2F, \"VSousa\")"
   ]
  },
  {
   "cell_type": "code",
   "execution_count": 73,
   "metadata": {},
   "outputs": [
    {
     "name": "stdout",
     "output_type": "stream",
     "text": [
      "Here\n"
     ]
    }
   ],
   "source": [
    "print(\"Here\")"
   ]
  },
  {
   "cell_type": "markdown",
   "metadata": {},
   "source": [
    "### ---------------------------------------------"
   ]
  }
 ],
 "metadata": {
  "kernelspec": {
   "display_name": "Python 3",
   "language": "python",
   "name": "python3"
  },
  "language_info": {
   "codemirror_mode": {
    "name": "ipython",
    "version": 3
   },
   "file_extension": ".py",
   "mimetype": "text/x-python",
   "name": "python",
   "nbconvert_exporter": "python",
   "pygments_lexer": "ipython3",
   "version": "3.8.10"
  }
 },
 "nbformat": 4,
 "nbformat_minor": 4
}
