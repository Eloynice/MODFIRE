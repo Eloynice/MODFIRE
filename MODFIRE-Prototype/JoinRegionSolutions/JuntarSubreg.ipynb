{
 "cells": [
  {
   "cell_type": "code",
   "execution_count": 1,
   "metadata": {},
   "outputs": [
    {
     "name": "stdout",
     "output_type": "stream",
     "text": [
      "Hoje: 16/02/2023 16:39:12\n",
      "\n",
      "/home/eduardo/reuniao/2Eduardo\n"
     ]
    }
   ],
   "source": [
    "# 01.02.2023\n",
    "import datetime\n",
    "print(\"Hoje: {:%d/%m/%Y %H:%M:%S\\n}\".format(datetime.datetime.now()))\n",
    "import os\n",
    "print(os.getcwd())   # get current working directory"
   ]
  },
  {
   "cell_type": "code",
   "execution_count": 2,
   "metadata": {},
   "outputs": [],
   "source": [
    "# Pared Penaf PaivaWest  PaivaEast PaivaIsland\n",
    "#    1    2       3         4          5"
   ]
  },
  {
   "cell_type": "code",
   "execution_count": 3,
   "metadata": {},
   "outputs": [
    {
     "name": "stdout",
     "output_type": "stream",
     "text": [
      "The time is: 1676565552.9816284\n"
     ]
    }
   ],
   "source": [
    "import time\n",
    "TStart = time.time()\n",
    "print('The time is:', time.time())"
   ]
  },
  {
   "cell_type": "code",
   "execution_count": 4,
   "metadata": {},
   "outputs": [],
   "source": [
    "def PP2File(fileName,LIST,modelName):\n",
    "    file = open(fileName, 'w')\n",
    "    file.write(modelName)\n",
    "    file.write(\"\\tWood\\tSoil\\tResist\\tPared\\tPenaf\\tPaivaW\\tPaivaE\\tPaivaI\\n\")\n",
    "    file.write(\"#\\t+\\t-\\t+\\t#\\t#\\t#\\t#\\t#\\n\")\n",
    "    k = 0\n",
    "    for p in LIST:\n",
    "        k += 1    \n",
    "        buf = 'P%06d'%(k)+\"\\t\"+'%.4f'%(p[0])+\"\\t\"+'%.4f'%(p[1])+\"\\t\"+'%.4f'%(p[2])+ \\\n",
    "        \"\\t\"+'%d'%(p[3])+\"\\t\"+'%d'%(p[4])+\"\\t\"+'%d'%(p[5])+\"\\t\"+'%d'%(p[6])+\"\\t\"+'%d'%(p[7])+\"\\n\"    \n",
    "        file.write(buf)\n",
    "    file.close()"
   ]
  },
  {
   "cell_type": "code",
   "execution_count": 5,
   "metadata": {},
   "outputs": [],
   "source": [
    "def readPPfile(fileName):\n",
    "    file = open(fileName, 'r')\n",
    "    Lines = file.readlines()\n",
    "    file.close()\n",
    "    #------------------\n",
    "    LIST = []\n",
    "    for p in Lines[2:]:\n",
    "        lin = p.split(\"\\t\")        \n",
    "        val = []\n",
    "        for s in lin[1:]:\n",
    "            val.append(float(s))    \n",
    "        LIST.append(val)\n",
    "    return (LIST)"
   ]
  },
  {
   "cell_type": "code",
   "execution_count": 6,
   "metadata": {},
   "outputs": [],
   "source": [
    "pntNumber = 0\n",
    "MasterParPoints = []\n",
    "#-------------------------------------------functions\n",
    "def pnt_dominated(pnt):\n",
    "    # is pnt dominated by MasterParPoints? \n",
    "    #print('pnt=', pnt)        \n",
    "    for k in range(len(MasterParPoints)):        \n",
    "        #print('COMPAR ', MasterParPoints[k])\n",
    "        if MasterParPoints[k][0] >= pnt[0] and MasterParPoints[k][1] <= pnt[1] and MasterParPoints[k][2] >= pnt[2]:\n",
    "            #print('pnt dominated by ',k )\n",
    "            return True\n",
    "    return False\n",
    "    \n",
    "def insert_pnt(npnt):\n",
    "    if pnt_dominated(npnt):\n",
    "        #print ('ignorar')\n",
    "        return 0\n",
    "    # elimination of SumParPoints dominated by pnt\n",
    "    k = 0 \n",
    "    while k < len(MasterParPoints):        \n",
    "        if npnt[0] >= MasterParPoints[k][0] and npnt[1] <= MasterParPoints[k][1] and npnt[2] >= MasterParPoints[k][2]:           \n",
    "            del MasterParPoints[k]\n",
    "        else:\n",
    "            k += 1\n",
    "    MasterParPoints.append(npnt)\n",
    "    if len(MasterParPoints)%500==0:\n",
    "        TTemp = time.time()\n",
    "        print('pnt={:>10d}. ParPnt={:>6d}. Time  : {:>9.2f}'.format(pntNumber,len(MasterParPoints), TTemp - TStart))\n",
    "    return 1\n"
   ]
  },
  {
   "cell_type": "code",
   "execution_count": null,
   "metadata": {},
   "outputs": [],
   "source": []
  },
  {
   "cell_type": "code",
   "execution_count": 7,
   "metadata": {},
   "outputs": [],
   "source": [
    "def filter(PPSet, nReg = -1):\n",
    "    # nReg:  1  2  3   4  5\n",
    "    # nReg = 0 : não alterar os indices dos pontos \n",
    "    global MasterParPoints\n",
    "    global TStart, TFinish\n",
    "    global pntNumber\n",
    "    \n",
    "    MasterParPoints = []\n",
    "    pntNumber = 0\n",
    "    \n",
    "    TStart = time.time()\n",
    "    pntNumber = 0\n",
    "    \n",
    "    for i in range(len(PPSet)):\n",
    "        if nReg < 0:\n",
    "            newp = [0,0,0]\n",
    "        elif nReg == 0:\n",
    "            newp = [0,0,0,  0,0,0,0,0]\n",
    "            for k in range(8):\n",
    "                newp[k] = PPSet[i][k]\n",
    "        else:\n",
    "            newp = [0,0,0,  0,0,0,0,0]\n",
    "            newp[nReg+2] = i+1\n",
    "        for k in range(3):\n",
    "            newp[k] = PPSet[i][k]        \n",
    "        insert_pnt(newp)\n",
    "        pntNumber = pntNumber + 1    \n",
    "    \n",
    "    TFinish = time.time()\n",
    "    print(len(MasterParPoints))\n",
    "    print('Time  : {:>9.2f}'.format(TFinish - TStart))\n",
    "    ResultSet = MasterParPoints.copy()\n",
    "    return ResultSet   "
   ]
  },
  {
   "cell_type": "code",
   "execution_count": 8,
   "metadata": {},
   "outputs": [],
   "source": [
    "def Arred3d(LIST, mult):\n",
    "    for p in LIST:\n",
    "        for k in range(3):\n",
    "            p[k] = int(p[k]*mult[k] + 0.5)/mult[k]        "
   ]
  },
  {
   "cell_type": "code",
   "execution_count": 9,
   "metadata": {},
   "outputs": [],
   "source": [
    "def pntclr(x3, x3_min, x3_max):\n",
    "    clrs = ['red','orange', 'yellow','green', 'lightblue', 'blue', 'magenta']\n",
    "    n = int(((x3 - x3_min)/(x3_max - x3_min))*6+0.5)\n",
    "    if n<0:\n",
    "        n = 0\n",
    "    elif n>6:\n",
    "        n = 6\n",
    "    return clrs[n]"
   ]
  },
  {
   "cell_type": "code",
   "execution_count": 10,
   "metadata": {},
   "outputs": [],
   "source": [
    "######################################################"
   ]
  },
  {
   "cell_type": "code",
   "execution_count": 11,
   "metadata": {},
   "outputs": [
    {
     "data": {
      "text/plain": [
       "814"
      ]
     },
     "execution_count": 11,
     "metadata": {},
     "output_type": "execute_result"
    }
   ],
   "source": [
    "ParPenPP = readPPfile('ParPenPP.vmt')\n",
    "len(ParPenPP)"
   ]
  },
  {
   "cell_type": "code",
   "execution_count": 12,
   "metadata": {},
   "outputs": [
    {
     "data": {
      "text/plain": [
       "[[2.8147, 2.4447, 20.944],\n",
       " [2.8145, 2.4448, 20.945],\n",
       " [2.8145, 2.4447, 20.945],\n",
       " [2.8139, 2.4423, 20.948],\n",
       " [2.8147, 2.4449, 20.944]]"
      ]
     },
     "execution_count": 12,
     "metadata": {},
     "output_type": "execute_result"
    }
   ],
   "source": [
    "ParPenPP[:5]"
   ]
  },
  {
   "cell_type": "code",
   "execution_count": 13,
   "metadata": {},
   "outputs": [
    {
     "name": "stdout",
     "output_type": "stream",
     "text": [
      "219\n",
      "Time  :      0.04\n"
     ]
    },
    {
     "data": {
      "text/plain": [
       "219"
      ]
     },
     "execution_count": 13,
     "metadata": {},
     "output_type": "execute_result"
    }
   ],
   "source": [
    "ParPenPPF = filter(ParPenPP,1)\n",
    "len(ParPenPPF)"
   ]
  },
  {
   "cell_type": "code",
   "execution_count": 14,
   "metadata": {},
   "outputs": [
    {
     "data": {
      "text/plain": [
       "[[2.8147, 2.4447, 20.944, 1, 0, 0, 0, 0],\n",
       " [2.8145, 2.4447, 20.945, 3, 0, 0, 0, 0],\n",
       " [2.8139, 2.4423, 20.948, 4, 0, 0, 0, 0],\n",
       " [2.814, 2.4425, 20.948, 7, 0, 0, 0, 0],\n",
       " [2.8093, 2.4391, 20.96, 9, 0, 0, 0, 0]]"
      ]
     },
     "execution_count": 14,
     "metadata": {},
     "output_type": "execute_result"
    }
   ],
   "source": [
    "ParPenPPF[:5]"
   ]
  },
  {
   "cell_type": "code",
   "execution_count": 15,
   "metadata": {},
   "outputs": [],
   "source": [
    "# Numeração dos pontos da subregião a partir de 1!"
   ]
  },
  {
   "cell_type": "code",
   "execution_count": 16,
   "metadata": {},
   "outputs": [],
   "source": [
    "PP2File(\"ParPenPPF.vmt\",ParPenPPF,\"ParPenF\")"
   ]
  },
  {
   "cell_type": "code",
   "execution_count": 17,
   "metadata": {},
   "outputs": [
    {
     "name": "stdout",
     "output_type": "stream",
     "text": [
      "2.7909 2.815\n",
      "2.4358 2.445\n",
      "20.94 20.988\n"
     ]
    },
    {
     "data": {
      "image/png": "[encoded data removed]",
      "text/plain": [
       "<Figure size 432x432 with 1 Axes>"
      ]
     },
     "metadata": {
      "needs_background": "light"
     },
     "output_type": "display_data"
    },
    {
     "name": "stdout",
     "output_type": "stream",
     "text": [
      "Time  :     15.47\n"
     ]
    }
   ],
   "source": [
    "PPSet = ParPenPP\n",
    "TStart = time.time()\n",
    "X1 = [PPSet[i][0] for i in range(len(PPSet))]\n",
    "X2 = [PPSet[i][1] for i in range(len(PPSet))]\n",
    "X3 = [PPSet[i][2] for i in range(len(PPSet))]\n",
    "x1_min = min(X1); x1_max = max(X1)\n",
    "print(x1_min, x1_max)\n",
    "x2_min = min(X2); x2_max = max(X2)\n",
    "print(x2_min, x2_max)\n",
    "x3_min = min(X3); x3_max = max(X3)\n",
    "print(x3_min, x3_max)\n",
    "#################################\n",
    "\n",
    "import numpy as np\n",
    "import matplotlib.pyplot as plt\n",
    "\n",
    "fig = plt.figure(figsize =(6,6))\n",
    "for i in range(len(X1)):\n",
    "    plt.scatter(X1[i],X2[i], color=pntclr(X3[i],x3_min,x3_max))\n",
    "plt.xlabel('x1')    \n",
    "plt.ylabel('x2')    \n",
    "plt.grid()    \n",
    "plt.show()  \n",
    "TFinish = time.time()\n",
    "print('Time  : {:>9.2f}'.format(TFinish - TStart))"
   ]
  },
  {
   "cell_type": "code",
   "execution_count": 18,
   "metadata": {},
   "outputs": [
    {
     "name": "stdout",
     "output_type": "stream",
     "text": [
      "2.7911 2.815\n",
      "2.4358 2.4447\n",
      "20.941 20.988\n"
     ]
    },
    {
     "data": {
      "image/png": "[encoded data removed]",
      "text/plain": [
       "<Figure size 432x432 with 1 Axes>"
      ]
     },
     "metadata": {
      "needs_background": "light"
     },
     "output_type": "display_data"
    },
    {
     "name": "stdout",
     "output_type": "stream",
     "text": [
      "Time  :      3.93\n"
     ]
    }
   ],
   "source": [
    "PPSet = ParPenPPF\n",
    "TStart = time.time()\n",
    "X1 = [PPSet[i][0] for i in range(len(PPSet))]\n",
    "X2 = [PPSet[i][1] for i in range(len(PPSet))]\n",
    "X3 = [PPSet[i][2] for i in range(len(PPSet))]\n",
    "x1_min = min(X1); x1_max = max(X1)\n",
    "print(x1_min, x1_max)\n",
    "x2_min = min(X2); x2_max = max(X2)\n",
    "print(x2_min, x2_max)\n",
    "x3_min = min(X3); x3_max = max(X3)\n",
    "print(x3_min, x3_max)\n",
    "#################################\n",
    "\n",
    "import numpy as np\n",
    "import matplotlib.pyplot as plt\n",
    "\n",
    "fig = plt.figure(figsize =(6,6))\n",
    "for i in range(len(X1)):\n",
    "    plt.scatter(X1[i],X2[i], color=pntclr(X3[i],x3_min,x3_max))\n",
    "plt.xlabel('x1')    \n",
    "plt.ylabel('x2')    \n",
    "plt.grid()    \n",
    "plt.show()    \n",
    "TFinish = time.time()\n",
    "print('Time  : {:>9.2f}'.format(TFinish - TStart))"
   ]
  },
  {
   "cell_type": "code",
   "execution_count": 19,
   "metadata": {},
   "outputs": [
    {
     "data": {
      "text/plain": [
       "742"
      ]
     },
     "execution_count": 19,
     "metadata": {},
     "output_type": "execute_result"
    }
   ],
   "source": [
    "PaivaWestPP = readPPfile('PaivaWestPP.vmt')\n",
    "len(PaivaWestPP)"
   ]
  },
  {
   "cell_type": "code",
   "execution_count": 20,
   "metadata": {},
   "outputs": [
    {
     "data": {
      "text/plain": [
       "[[2.2948, 2.6232, 17.355],\n",
       " [2.2948, 2.6232, 17.355],\n",
       " [2.2948, 2.6231, 17.355],\n",
       " [2.2944, 2.6224, 17.352],\n",
       " [2.2944, 2.6224, 17.352]]"
      ]
     },
     "execution_count": 20,
     "metadata": {},
     "output_type": "execute_result"
    }
   ],
   "source": [
    "PaivaWestPP[:5]"
   ]
  },
  {
   "cell_type": "code",
   "execution_count": 21,
   "metadata": {
    "scrolled": true
   },
   "outputs": [
    {
     "name": "stdout",
     "output_type": "stream",
     "text": [
      "251\n",
      "Time  :      0.04\n"
     ]
    },
    {
     "data": {
      "text/plain": [
       "251"
      ]
     },
     "execution_count": 21,
     "metadata": {},
     "output_type": "execute_result"
    }
   ],
   "source": [
    "PaivaWestPPF = filter(PaivaWestPP, 3)\n",
    "len(PaivaWestPPF)"
   ]
  },
  {
   "cell_type": "code",
   "execution_count": 22,
   "metadata": {},
   "outputs": [
    {
     "data": {
      "text/plain": [
       "[[2.2948, 2.6231, 17.355, 0, 0, 3, 0, 0],\n",
       " [2.2944, 2.6223, 17.352, 0, 0, 6, 0, 0],\n",
       " [2.2945, 2.6227, 17.353, 0, 0, 7, 0, 0],\n",
       " [2.2946, 2.6233, 17.356, 0, 0, 8, 0, 0],\n",
       " [2.2958, 2.625, 17.361, 0, 0, 21, 0, 0]]"
      ]
     },
     "execution_count": 22,
     "metadata": {},
     "output_type": "execute_result"
    }
   ],
   "source": [
    "PaivaWestPPF[:5]"
   ]
  },
  {
   "cell_type": "code",
   "execution_count": 23,
   "metadata": {},
   "outputs": [],
   "source": [
    "PP2File(\"PaivaWestPPF.vmt\",PaivaWestPPF,\"PWestF\")"
   ]
  },
  {
   "cell_type": "code",
   "execution_count": 24,
   "metadata": {},
   "outputs": [
    {
     "data": {
      "text/plain": [
       "681"
      ]
     },
     "execution_count": 24,
     "metadata": {},
     "output_type": "execute_result"
    }
   ],
   "source": [
    "PaivaEastPP = readPPfile('PaivaEastPP.vmt')\n",
    "len(PaivaEastPP)"
   ]
  },
  {
   "cell_type": "code",
   "execution_count": 25,
   "metadata": {},
   "outputs": [
    {
     "data": {
      "text/plain": [
       "[[0.3712, 0.5059, 2.981],\n",
       " [0.3716, 0.5083, 2.986],\n",
       " [0.3724, 0.5098, 2.983],\n",
       " [0.3719, 0.506, 2.98],\n",
       " [0.3717, 0.5083, 2.986]]"
      ]
     },
     "execution_count": 25,
     "metadata": {},
     "output_type": "execute_result"
    }
   ],
   "source": [
    "PaivaEastPP[:5]"
   ]
  },
  {
   "cell_type": "code",
   "execution_count": 26,
   "metadata": {},
   "outputs": [
    {
     "name": "stdout",
     "output_type": "stream",
     "text": [
      "362\n",
      "Time  :      0.06\n"
     ]
    },
    {
     "data": {
      "text/plain": [
       "362"
      ]
     },
     "execution_count": 26,
     "metadata": {},
     "output_type": "execute_result"
    }
   ],
   "source": [
    "PaivaEastPPF = filter(PaivaEastPP,4)\n",
    "len(PaivaEastPPF)"
   ]
  },
  {
   "cell_type": "code",
   "execution_count": 27,
   "metadata": {},
   "outputs": [
    {
     "data": {
      "text/plain": [
       "[[0.3724, 0.5098, 2.983, 0, 0, 0, 3, 0],\n",
       " [0.3719, 0.506, 2.98, 0, 0, 0, 4, 0],\n",
       " [0.3717, 0.5083, 2.986, 0, 0, 0, 5, 0],\n",
       " [0.3723, 0.5083, 2.985, 0, 0, 0, 6, 0],\n",
       " [0.3724, 0.5086, 2.982, 0, 0, 0, 7, 0]]"
      ]
     },
     "execution_count": 27,
     "metadata": {},
     "output_type": "execute_result"
    }
   ],
   "source": [
    "PaivaEastPPF[:5]"
   ]
  },
  {
   "cell_type": "code",
   "execution_count": 28,
   "metadata": {},
   "outputs": [],
   "source": [
    "PP2File(\"PaivaEastPPF.vmt\",PaivaEastPPF,\"PEastF\")"
   ]
  },
  {
   "cell_type": "code",
   "execution_count": 29,
   "metadata": {},
   "outputs": [
    {
     "data": {
      "text/plain": [
       "579"
      ]
     },
     "execution_count": 29,
     "metadata": {},
     "output_type": "execute_result"
    }
   ],
   "source": [
    "PaivaIslandsPP = readPPfile('PaivaIslandsPP.vmt')\n",
    "len(PaivaIslandsPP)"
   ]
  },
  {
   "cell_type": "code",
   "execution_count": 30,
   "metadata": {},
   "outputs": [
    {
     "data": {
      "text/plain": [
       "[[0.3446, 0.3875, 2.347],\n",
       " [0.3289, 0.3781, 2.371],\n",
       " [0.329, 0.3781, 2.371],\n",
       " [0.3291, 0.3782, 2.371],\n",
       " [0.3291, 0.3782, 2.371]]"
      ]
     },
     "execution_count": 30,
     "metadata": {},
     "output_type": "execute_result"
    }
   ],
   "source": [
    "PaivaIslandsPP[:5]"
   ]
  },
  {
   "cell_type": "code",
   "execution_count": 31,
   "metadata": {},
   "outputs": [
    {
     "name": "stdout",
     "output_type": "stream",
     "text": [
      "285\n",
      "Time  :      0.04\n"
     ]
    },
    {
     "data": {
      "text/plain": [
       "285"
      ]
     },
     "execution_count": 31,
     "metadata": {},
     "output_type": "execute_result"
    }
   ],
   "source": [
    "PaivaIslandsPPF = filter(PaivaIslandsPP,5)\n",
    "len(PaivaIslandsPPF)"
   ]
  },
  {
   "cell_type": "code",
   "execution_count": 32,
   "metadata": {},
   "outputs": [
    {
     "data": {
      "text/plain": [
       "[[0.329, 0.3781, 2.371, 0, 0, 0, 0, 3],\n",
       " [0.3306, 0.3786, 2.386, 0, 0, 0, 0, 6],\n",
       " [0.3299, 0.3782, 2.376, 0, 0, 0, 0, 7],\n",
       " [0.3316, 0.3787, 2.385, 0, 0, 0, 0, 8],\n",
       " [0.3309, 0.3783, 2.375, 0, 0, 0, 0, 10]]"
      ]
     },
     "execution_count": 32,
     "metadata": {},
     "output_type": "execute_result"
    }
   ],
   "source": [
    "PaivaIslandsPPF[:5]"
   ]
  },
  {
   "cell_type": "code",
   "execution_count": 33,
   "metadata": {},
   "outputs": [],
   "source": [
    "PP2File(\"PaivaIslandsPPF.vmt\",PaivaIslandsPPF,\"PIslanF\")"
   ]
  },
  {
   "cell_type": "code",
   "execution_count": 34,
   "metadata": {},
   "outputs": [
    {
     "name": "stdout",
     "output_type": "stream",
     "text": [
      "2.2881 2.2991\n",
      "2.6152 2.6303\n",
      "17.343 17.383\n"
     ]
    },
    {
     "data": {
      "image/png": "[encoded data removed]",
      "text/plain": [
       "<Figure size 432x432 with 1 Axes>"
      ]
     },
     "metadata": {
      "needs_background": "light"
     },
     "output_type": "display_data"
    },
    {
     "name": "stdout",
     "output_type": "stream",
     "text": [
      "Time  :     13.03\n"
     ]
    }
   ],
   "source": [
    "PPSet = PaivaWestPP\n",
    "TStart = time.time()\n",
    "X1 = [PPSet[i][0] for i in range(len(PPSet))]\n",
    "X2 = [PPSet[i][1] for i in range(len(PPSet))]\n",
    "X3 = [PPSet[i][2] for i in range(len(PPSet))]\n",
    "x1_min = min(X1); x1_max = max(X1)\n",
    "print(x1_min, x1_max)\n",
    "x2_min = min(X2); x2_max = max(X2)\n",
    "print(x2_min, x2_max)\n",
    "x3_min = min(X3); x3_max = max(X3)\n",
    "print(x3_min, x3_max)\n",
    "#################################\n",
    "\n",
    "import numpy as np\n",
    "import matplotlib.pyplot as plt\n",
    "\n",
    "fig = plt.figure(figsize =(6,6))\n",
    "for i in range(len(X1)):\n",
    "    plt.scatter(X1[i],X2[i], color=pntclr(X3[i],x3_min,x3_max))\n",
    "plt.xlabel('x1')    \n",
    "plt.ylabel('x2')    \n",
    "plt.grid()    \n",
    "plt.show()\n",
    "TFinish = time.time()\n",
    "print('Time  : {:>9.2f}'.format(TFinish - TStart))"
   ]
  },
  {
   "cell_type": "code",
   "execution_count": 35,
   "metadata": {},
   "outputs": [
    {
     "name": "stdout",
     "output_type": "stream",
     "text": [
      "2.2881 2.2991\n",
      "2.6152 2.6303\n",
      "17.343 17.383\n"
     ]
    },
    {
     "data": {
      "image/png": "[encoded data removed]",
      "text/plain": [
       "<Figure size 432x432 with 1 Axes>"
      ]
     },
     "metadata": {
      "needs_background": "light"
     },
     "output_type": "display_data"
    },
    {
     "name": "stdout",
     "output_type": "stream",
     "text": [
      "Time  :      4.32\n"
     ]
    }
   ],
   "source": [
    "PPSet = PaivaWestPPF\n",
    "TStart = time.time()\n",
    "X1 = [PPSet[i][0] for i in range(len(PPSet))]\n",
    "X2 = [PPSet[i][1] for i in range(len(PPSet))]\n",
    "X3 = [PPSet[i][2] for i in range(len(PPSet))]\n",
    "x1_min = min(X1); x1_max = max(X1)\n",
    "print(x1_min, x1_max)\n",
    "x2_min = min(X2); x2_max = max(X2)\n",
    "print(x2_min, x2_max)\n",
    "x3_min = min(X3); x3_max = max(X3)\n",
    "print(x3_min, x3_max)\n",
    "#################################\n",
    "\n",
    "import numpy as np\n",
    "import matplotlib.pyplot as plt\n",
    "\n",
    "fig = plt.figure(figsize =(6,6))\n",
    "for i in range(len(X1)):\n",
    "    plt.scatter(X1[i],X2[i], color=pntclr(X3[i],x3_min,x3_max))\n",
    "plt.xlabel('x1')    \n",
    "plt.ylabel('x2')    \n",
    "plt.grid()    \n",
    "plt.show() \n",
    "TFinish = time.time()\n",
    "print('Time  : {:>9.2f}'.format(TFinish - TStart))"
   ]
  },
  {
   "cell_type": "code",
   "execution_count": 36,
   "metadata": {},
   "outputs": [
    {
     "data": {
      "text/plain": [
       "(814, 742, 681, 579)"
      ]
     },
     "execution_count": 36,
     "metadata": {},
     "output_type": "execute_result"
    }
   ],
   "source": [
    "len(ParPenPP),len(PaivaWestPP),len(PaivaEastPP),len(PaivaIslandsPP)"
   ]
  },
  {
   "cell_type": "code",
   "execution_count": 37,
   "metadata": {},
   "outputs": [
    {
     "data": {
      "text/plain": [
       "(219, 251, 362, 285)"
      ]
     },
     "execution_count": 37,
     "metadata": {},
     "output_type": "execute_result"
    }
   ],
   "source": [
    "len(ParPenPPF),len(PaivaWestPPF),len(PaivaEastPPF),len(PaivaIslandsPPF)"
   ]
  },
  {
   "cell_type": "code",
   "execution_count": 38,
   "metadata": {},
   "outputs": [],
   "source": [
    "##################################################################"
   ]
  },
  {
   "cell_type": "code",
   "execution_count": 39,
   "metadata": {},
   "outputs": [
    {
     "name": "stdout",
     "output_type": "stream",
     "text": [
      "Joining Paiva West + East\n",
      "pnt=       987. ParPnt=   500. Time  :      0.09\n",
      "pnt=      1554. ParPnt=   500. Time  :      0.19\n",
      "pnt=      1576. ParPnt=   500. Time  :      0.20\n",
      "pnt=      1581. ParPnt=   500. Time  :      0.20\n",
      "pnt=      1642. ParPnt=   500. Time  :      0.22\n",
      "pnt=      1701. ParPnt=   500. Time  :      0.24\n",
      "pnt=      1715. ParPnt=   500. Time  :      0.24\n",
      "pnt=      1730. ParPnt=   500. Time  :      0.24\n",
      "pnt=      1733. ParPnt=   500. Time  :      0.25\n",
      "pnt=      1743. ParPnt=   500. Time  :      0.25\n",
      "pnt=      1828. ParPnt=   500. Time  :      0.27\n",
      "pnt=      7562. ParPnt=  1000. Time  :      0.92\n",
      "pnt=      7567. ParPnt=  1000. Time  :      0.92\n",
      "pnt=     15419. ParPnt=  1500. Time  :      2.29\n",
      "pnt=     33773. ParPnt=  2000. Time  :      6.68\n",
      "pnt=     33837. ParPnt=  2000. Time  :      6.69\n",
      "pnt=     59467. ParPnt=  2500. Time  :     14.26\n",
      "pnt=     60431. ParPnt=  2500. Time  :     14.45\n",
      "pnt=     60553. ParPnt=  2500. Time  :     14.48\n",
      "pnt=     60641. ParPnt=  2500. Time  :     14.50\n",
      "pnt=     60701. ParPnt=  2500. Time  :     14.51\n",
      "pnt=     60725. ParPnt=  2500. Time  :     14.51\n",
      "pnt=     67346. ParPnt=  2500. Time  :     16.14\n",
      "Joined West+East\n",
      "2779\n",
      "Time  :     21.26\n"
     ]
    },
    {
     "data": {
      "text/plain": [
       "2779"
      ]
     },
     "execution_count": 39,
     "metadata": {},
     "output_type": "execute_result"
    }
   ],
   "source": [
    "MasterParPoints = []   \n",
    "\n",
    "TStart = time.time()\n",
    "pntNumber = 0\n",
    "#---------------------------------Joining Paivas\n",
    "print(\"Joining Paiva West + East\")\n",
    "\n",
    "for i in range(len(PaivaWestPPF)):\n",
    "    for j in range(len(PaivaEastPPF)):\n",
    "        newp = [0,0,0,  0,0,0,0,0]\n",
    "        for k in range(3):\n",
    "            newp[k] = PaivaWestPPF[i][k] + PaivaEastPPF[j][k]\n",
    "        newp[5] = PaivaWestPPF[i][5]\n",
    "        newp[6] = PaivaEastPPF[j][6]\n",
    "        insert_pnt(newp)\n",
    "        pntNumber = pntNumber + 1\n",
    "\n",
    "TFinish = time.time()\n",
    "print(\"Joined West+East\")\n",
    "print(len(MasterParPoints))\n",
    "print('Time  : {:>9.2f}'.format(TFinish - TStart))\n",
    "PaivaPP_WE = MasterParPoints.copy()\n",
    "len(PaivaPP_WE)"
   ]
  },
  {
   "cell_type": "code",
   "execution_count": 40,
   "metadata": {},
   "outputs": [
    {
     "name": "stdout",
     "output_type": "stream",
     "text": [
      "2.6571 2.6791\n",
      "3.1139 3.1526\n",
      "20.275 20.369\n"
     ]
    },
    {
     "data": {
      "image/png": "[encoded data removed]",
      "text/plain": [
       "<Figure size 432x432 with 1 Axes>"
      ]
     },
     "metadata": {
      "needs_background": "light"
     },
     "output_type": "display_data"
    },
    {
     "name": "stdout",
     "output_type": "stream",
     "text": [
      "Time  :     65.72\n"
     ]
    }
   ],
   "source": [
    "PPSet = PaivaPP_WE\n",
    "TStart = time.time()\n",
    "X1 = [PPSet[i][0] for i in range(len(PPSet))]\n",
    "X2 = [PPSet[i][1] for i in range(len(PPSet))]\n",
    "X3 = [PPSet[i][2] for i in range(len(PPSet))]\n",
    "x1_min = min(X1); x1_max = max(X1)\n",
    "print(x1_min, x1_max)\n",
    "x2_min = min(X2); x2_max = max(X2)\n",
    "print(x2_min, x2_max)\n",
    "x3_min = min(X3); x3_max = max(X3)\n",
    "print(x3_min, x3_max)\n",
    "#################################\n",
    "\n",
    "import numpy as np\n",
    "import matplotlib.pyplot as plt\n",
    "\n",
    "fig = plt.figure(figsize =(6,6))\n",
    "for i in range(len(X1)):\n",
    "    plt.scatter(X1[i],X2[i], color=pntclr(X3[i],x3_min, x3_max))\n",
    "plt.xlabel('x1')    \n",
    "plt.ylabel('x2')    \n",
    "plt.grid()    \n",
    "plt.show() \n",
    "TFinish = time.time()\n",
    "print('Time  : {:>9.2f}'.format(TFinish - TStart))"
   ]
  },
  {
   "cell_type": "code",
   "execution_count": 41,
   "metadata": {},
   "outputs": [
    {
     "name": "stdout",
     "output_type": "stream",
     "text": [
      "2.6571 2.6791\n",
      "3.1139 3.1526\n",
      "20.275 20.369\n"
     ]
    },
    {
     "data": {
      "image/png": "[encoded data removed]",
      "text/plain": [
       "<Figure size 432x432 with 1 Axes>"
      ]
     },
     "metadata": {
      "needs_background": "light"
     },
     "output_type": "display_data"
    },
    {
     "name": "stdout",
     "output_type": "stream",
     "text": [
      "Time  :     65.40\n"
     ]
    }
   ],
   "source": [
    "PPSet = PaivaPP_WE\n",
    "TStart = time.time()\n",
    "X1 = [PPSet[i][0] for i in range(len(PPSet))]\n",
    "X2 = [PPSet[i][1] for i in range(len(PPSet))]\n",
    "X3 = [PPSet[i][2] for i in range(len(PPSet))]\n",
    "x1_min = min(X1); x1_max = max(X1)\n",
    "print(x1_min, x1_max)\n",
    "x2_min = min(X2); x2_max = max(X2)\n",
    "print(x2_min, x2_max)\n",
    "x3_min = min(X3); x3_max = max(X3)\n",
    "print(x3_min, x3_max)\n",
    "#################################\n",
    "\n",
    "import numpy as np\n",
    "import matplotlib.pyplot as plt\n",
    "\n",
    "fig = plt.figure(figsize =(6,6))\n",
    "for i in range(len(X1)):\n",
    "    plt.scatter(X3[i],X2[i], color=pntclr(X1[i],x1_min, x1_max))\n",
    "plt.xlabel('x3')    \n",
    "plt.ylabel('x2')    \n",
    "plt.grid()    \n",
    "plt.show() \n",
    "TFinish = time.time()\n",
    "print('Time  : {:>9.2f}'.format(TFinish - TStart))"
   ]
  },
  {
   "cell_type": "code",
   "execution_count": 42,
   "metadata": {},
   "outputs": [],
   "source": [
    "PP2File(\"PaivaPP_WE.vmt\", PaivaPP_WE, \"Paiva_WE\")"
   ]
  },
  {
   "cell_type": "code",
   "execution_count": 43,
   "metadata": {},
   "outputs": [
    {
     "name": "stdout",
     "output_type": "stream",
     "text": [
      "Joining Paiva WestEast + Islands\n",
      "pnt=       976. ParPnt=   500. Time  :      0.40\n",
      "pnt=      2691. ParPnt=  1000. Time  :      0.74\n",
      "pnt=      3893. ParPnt=  1500. Time  :      1.27\n",
      "pnt=      3895. ParPnt=  1500. Time  :      1.27\n",
      "pnt=      3920. ParPnt=  1500. Time  :      1.28\n",
      "pnt=     14673. ParPnt=  2000. Time  :      5.15\n",
      "pnt=     14854. ParPnt=  2000. Time  :      5.27\n",
      "pnt=     15566. ParPnt=  2000. Time  :      5.76\n",
      "pnt=     15832. ParPnt=  2000. Time  :      5.87\n",
      "pnt=     15858. ParPnt=  2000. Time  :      5.90\n",
      "pnt=     15859. ParPnt=  2000. Time  :      5.90\n",
      "pnt=     15860. ParPnt=  2000. Time  :      5.90\n",
      "pnt=     15912. ParPnt=  2000. Time  :      5.92\n",
      "pnt=     15913. ParPnt=  2000. Time  :      5.93\n",
      "pnt=     15914. ParPnt=  2000. Time  :      5.93\n",
      "pnt=     15918. ParPnt=  2000. Time  :      5.93\n",
      "pnt=     15919. ParPnt=  2000. Time  :      5.93\n",
      "pnt=     22255. ParPnt=  2500. Time  :      8.46\n",
      "pnt=     26704. ParPnt=  2500. Time  :     10.00\n",
      "pnt=     45054. ParPnt=  3000. Time  :     13.45\n",
      "pnt=     45055. ParPnt=  3000. Time  :     13.45\n",
      "pnt=     45072. ParPnt=  3000. Time  :     13.46\n",
      "pnt=     46773. ParPnt=  3000. Time  :     13.58\n",
      "pnt=     88603. ParPnt=  3500. Time  :     18.49\n",
      "pnt=    144235. ParPnt=  4000. Time  :     25.15\n",
      "pnt=    144815. ParPnt=  4000. Time  :     25.20\n",
      "pnt=    144822. ParPnt=  4000. Time  :     25.20\n",
      "pnt=    284048. ParPnt=  4000. Time  :     42.69\n",
      "pnt=    284057. ParPnt=  4000. Time  :     42.71\n",
      "pnt=    284062. ParPnt=  4000. Time  :     42.72\n",
      "pnt=    284072. ParPnt=  4000. Time  :     42.74\n",
      "pnt=    285225. ParPnt=  4000. Time  :     44.41\n",
      "pnt=    285501. ParPnt=  4000. Time  :     44.97\n",
      "pnt=    290174. ParPnt=  4000. Time  :     50.81\n",
      "pnt=    292063. ParPnt=  4000. Time  :     53.27\n",
      "pnt=    292064. ParPnt=  4000. Time  :     53.27\n",
      "pnt=    303271. ParPnt=  4500. Time  :     64.39\n",
      "pnt=    303273. ParPnt=  4500. Time  :     64.39\n",
      "pnt=    356676. ParPnt=  5000. Time  :    103.64\n",
      "pnt=    377625. ParPnt=  5500. Time  :    118.21\n",
      "pnt=    377708. ParPnt=  5500. Time  :    118.36\n",
      "pnt=    377730. ParPnt=  5500. Time  :    118.42\n",
      "pnt=    378146. ParPnt=  5500. Time  :    119.33\n",
      "pnt=    396216. ParPnt=  6000. Time  :    140.91\n",
      "pnt=    444020. ParPnt=  6500. Time  :    176.85\n",
      "pnt=    444215. ParPnt=  6500. Time  :    176.96\n",
      "pnt=    444225. ParPnt=  6500. Time  :    176.98\n",
      "pnt=    559063. ParPnt=  7000. Time  :    238.23\n",
      "pnt=    559072. ParPnt=  7000. Time  :    238.24\n",
      "pnt=    675561. ParPnt=  7500. Time  :    301.85\n",
      "pnt=    732035. ParPnt=  8000. Time  :    340.87\n",
      "pnt=    766561. ParPnt=  8500. Time  :    372.61\n",
      "Joined Paiva WestEast+Islands\n",
      "8699\n",
      "Time  :    389.66\n"
     ]
    },
    {
     "data": {
      "text/plain": [
       "8699"
      ]
     },
     "execution_count": 43,
     "metadata": {},
     "output_type": "execute_result"
    }
   ],
   "source": [
    "MasterParPoints = []   \n",
    "\n",
    "TStart = time.time()\n",
    "pntNumber = 0\n",
    "#---------------------------------Joining Paivas\n",
    "print(\"Joining Paiva WestEast + Islands\")\n",
    "\n",
    "for i in range(len(PaivaPP_WE)):\n",
    "    for j in range(len(PaivaIslandsPPF)):\n",
    "        newp = [0,0,0,  0,0,0,0,0]\n",
    "        for k in range(3):\n",
    "            newp[k] = PaivaPP_WE[i][k] + PaivaIslandsPPF[j][k]\n",
    "        newp[5] = PaivaPP_WE[i][5]\n",
    "        newp[6] = PaivaPP_WE[i][6]\n",
    "        newp[7] = PaivaIslandsPPF[j][7]\n",
    "        insert_pnt(newp)\n",
    "        pntNumber = pntNumber + 1 \n",
    "\n",
    "TFinish = time.time()\n",
    "print(\"Joined Paiva WestEast+Islands\")\n",
    "print(len(MasterParPoints))\n",
    "print('Time  : {:>9.2f}'.format(TFinish - TStart))\n",
    "Paiva_WEI = MasterParPoints.copy()\n",
    "len(Paiva_WEI)"
   ]
  },
  {
   "cell_type": "code",
   "execution_count": null,
   "metadata": {},
   "outputs": [],
   "source": []
  },
  {
   "cell_type": "code",
   "execution_count": 44,
   "metadata": {},
   "outputs": [
    {
     "name": "stdout",
     "output_type": "stream",
     "text": [
      "2.9861 3.0248\n",
      "3.492 3.5402\n",
      "22.642 22.78\n"
     ]
    },
    {
     "data": {
      "image/png": "[encoded data removed]",
      "text/plain": [
       "<Figure size 432x432 with 1 Axes>"
      ]
     },
     "metadata": {
      "needs_background": "light"
     },
     "output_type": "display_data"
    },
    {
     "name": "stdout",
     "output_type": "stream",
     "text": [
      "Time  :    409.43\n"
     ]
    }
   ],
   "source": [
    "PPSet = Paiva_WEI\n",
    "TStart = time.time()\n",
    "X1 = [PPSet[i][0] for i in range(len(PPSet))]\n",
    "X2 = [PPSet[i][1] for i in range(len(PPSet))]\n",
    "X3 = [PPSet[i][2] for i in range(len(PPSet))]\n",
    "x1_min = min(X1); x1_max = max(X1)\n",
    "print(x1_min, x1_max)\n",
    "x2_min = min(X2); x2_max = max(X2)\n",
    "print(x2_min, x2_max)\n",
    "x3_min = min(X3); x3_max = max(X3)\n",
    "print(x3_min, x3_max)\n",
    "#################################\n",
    "\n",
    "import numpy as np\n",
    "import matplotlib.pyplot as plt\n",
    "\n",
    "fig = plt.figure(figsize =(6,6))\n",
    "for i in range(len(X1)):\n",
    "    plt.scatter(X1[i],X2[i], color=pntclr(X3[i],x3_min, x3_max))\n",
    "plt.xlabel('x1')    \n",
    "plt.ylabel('x2')    \n",
    "plt.grid()    \n",
    "plt.show()  \n",
    "TFinish = time.time()\n",
    "print('Time  : {:>9.2f}'.format(TFinish - TStart))"
   ]
  },
  {
   "cell_type": "code",
   "execution_count": 45,
   "metadata": {},
   "outputs": [
    {
     "name": "stdout",
     "output_type": "stream",
     "text": [
      "2.9861 3.0248\n",
      "3.492 3.5402\n",
      "22.642 22.78\n"
     ]
    },
    {
     "data": {
      "image/png": "[encoded data removed]",
      "text/plain": [
       "<Figure size 432x432 with 1 Axes>"
      ]
     },
     "metadata": {
      "needs_background": "light"
     },
     "output_type": "display_data"
    },
    {
     "name": "stdout",
     "output_type": "stream",
     "text": [
      "Time  :    409.15\n"
     ]
    }
   ],
   "source": [
    "PPSet = Paiva_WEI\n",
    "TStart = time.time()\n",
    "X1 = [PPSet[i][0] for i in range(len(PPSet))]\n",
    "X2 = [PPSet[i][1] for i in range(len(PPSet))]\n",
    "X3 = [PPSet[i][2] for i in range(len(PPSet))]\n",
    "x1_min = min(X1); x1_max = max(X1)\n",
    "print(x1_min, x1_max)\n",
    "x2_min = min(X2); x2_max = max(X2)\n",
    "print(x2_min, x2_max)\n",
    "x3_min = min(X3); x3_max = max(X3)\n",
    "print(x3_min, x3_max)\n",
    "#################################\n",
    "\n",
    "import numpy as np\n",
    "import matplotlib.pyplot as plt\n",
    "\n",
    "fig = plt.figure(figsize =(6,6))\n",
    "for i in range(len(X1)):\n",
    "    plt.scatter(X1[i],X3[i], color=pntclr(X2[i],x2_min, x2_max))\n",
    "plt.xlabel('x1')    \n",
    "plt.ylabel('x3')    \n",
    "plt.grid()    \n",
    "plt.show()    \n",
    "TFinish = time.time()\n",
    "print('Time  : {:>9.2f}'.format(TFinish - TStart))"
   ]
  },
  {
   "cell_type": "code",
   "execution_count": 46,
   "metadata": {},
   "outputs": [
    {
     "name": "stdout",
     "output_type": "stream",
     "text": [
      "2.9861 3.0248\n",
      "3.492 3.5402\n",
      "22.642 22.78\n"
     ]
    },
    {
     "data": {
      "image/png": "[encoded data removed]",
      "text/plain": [
       "<Figure size 432x432 with 1 Axes>"
      ]
     },
     "metadata": {
      "needs_background": "light"
     },
     "output_type": "display_data"
    },
    {
     "name": "stdout",
     "output_type": "stream",
     "text": [
      "Time  :    416.40\n"
     ]
    }
   ],
   "source": [
    "PPSet = Paiva_WEI\n",
    "TStart = time.time()\n",
    "X1 = [PPSet[i][0] for i in range(len(PPSet))]\n",
    "X2 = [PPSet[i][1] for i in range(len(PPSet))]\n",
    "X3 = [PPSet[i][2] for i in range(len(PPSet))]\n",
    "x1_min = min(X1); x1_max = max(X1)\n",
    "print(x1_min, x1_max)\n",
    "x2_min = min(X2); x2_max = max(X2)\n",
    "print(x2_min, x2_max)\n",
    "x3_min = min(X3); x3_max = max(X3)\n",
    "print(x3_min, x3_max)\n",
    "#################################\n",
    "\n",
    "import numpy as np\n",
    "import matplotlib.pyplot as plt\n",
    "\n",
    "fig = plt.figure(figsize =(6,6))\n",
    "for i in range(len(X1)):\n",
    "    plt.scatter(X2[i],X3[i], color=pntclr(X1[i],x1_min, x1_max))\n",
    "plt.xlabel('x2')    \n",
    "plt.ylabel('x3')    \n",
    "plt.grid()    \n",
    "plt.show()   \n",
    "TFinish = time.time()\n",
    "print('Time  : {:>9.2f}'.format(TFinish - TStart))"
   ]
  },
  {
   "cell_type": "code",
   "execution_count": null,
   "metadata": {},
   "outputs": [],
   "source": []
  },
  {
   "cell_type": "code",
   "execution_count": 47,
   "metadata": {},
   "outputs": [
    {
     "data": {
      "text/plain": [
       "'\\nMasterParPoints = []\\npntNumber = 0\\n\\nTStart = time.time()\\n#--------------------------------Direct joining Paivas\\nprint(\"Joining Paiva West + East + Islands directly\")\\n\\nfor i in range(len(PaivaWestPPF)):\\n    for j in range(len(PaivaEastPPF)):\\n        for r in range(len(PaivaIslandsPPF)):            \\n            newp = [0,0,0,  0,0,0,0,0]\\n            for k in range(3):                \\n                newp[k] = PaivaWestPPF[i][k] + PaivaEastPPF[j][k] + PaivaIslandsPPF[r][k]\\n            newp[5] = PaivaWestPPF[i][5]\\n            newp[6] = PaivaEastPPF[j][6]\\n            newp[7] = PaivaIslandsPPF[r][7]\\n            pntNumber = pntNumber + 1\\n            insert_pnt(newp)\\n\\nTFinish = time.time()\\nprint(\"Joined West+East+Islands\")\\nprint(len(MasterParPoints))\\nprint(\\'Time  : {:>9.2f}\\'.format(TFinish - TStart))\\nPaiva_d = MasterParPoints.copy()\\nlen(Paiva_d)\\n'"
      ]
     },
     "execution_count": 47,
     "metadata": {},
     "output_type": "execute_result"
    }
   ],
   "source": [
    "# West + East + Islands  DIRECTLY\n",
    "\"\"\"\n",
    "MasterParPoints = []\n",
    "pntNumber = 0\n",
    "\n",
    "TStart = time.time()\n",
    "#--------------------------------Direct joining Paivas\n",
    "print(\"Joining Paiva West + East + Islands directly\")\n",
    "\n",
    "for i in range(len(PaivaWestPPF)):\n",
    "    for j in range(len(PaivaEastPPF)):\n",
    "        for r in range(len(PaivaIslandsPPF)):            \n",
    "            newp = [0,0,0,  0,0,0,0,0]\n",
    "            for k in range(3):                \n",
    "                newp[k] = PaivaWestPPF[i][k] + PaivaEastPPF[j][k] + PaivaIslandsPPF[r][k]\n",
    "            newp[5] = PaivaWestPPF[i][5]\n",
    "            newp[6] = PaivaEastPPF[j][6]\n",
    "            newp[7] = PaivaIslandsPPF[r][7]\n",
    "            pntNumber = pntNumber + 1\n",
    "            insert_pnt(newp)\n",
    "\n",
    "TFinish = time.time()\n",
    "print(\"Joined West+East+Islands\")\n",
    "print(len(MasterParPoints))\n",
    "print('Time  : {:>9.2f}'.format(TFinish - TStart))\n",
    "Paiva_d = MasterParPoints.copy()\n",
    "len(Paiva_d)\n",
    "\"\"\""
   ]
  },
  {
   "cell_type": "code",
   "execution_count": 48,
   "metadata": {},
   "outputs": [],
   "source": [
    "#########################################"
   ]
  },
  {
   "cell_type": "code",
   "execution_count": 49,
   "metadata": {},
   "outputs": [],
   "source": [
    "PP2File(\"PaivaPP_WEI.vmt\", Paiva_WEI, \"Paiva\")"
   ]
  },
  {
   "cell_type": "code",
   "execution_count": 50,
   "metadata": {},
   "outputs": [
    {
     "data": {
      "text/plain": [
       "[[3.0136999999999996, 3.5103999999999997, 22.678, 0, 0, 3, 450, 103],\n",
       " [3.0134999999999996, 3.5099, 22.676, 0, 0, 3, 452, 103],\n",
       " [3.0132999999999996, 3.5096, 22.675, 0, 0, 6, 450, 103],\n",
       " [3.0134, 3.51, 22.676000000000002, 0, 0, 7, 450, 103],\n",
       " [3.0149, 3.5128000000000004, 22.684, 0, 0, 21, 404, 103]]"
      ]
     },
     "execution_count": 50,
     "metadata": {},
     "output_type": "execute_result"
    }
   ],
   "source": [
    "Paiva_WEI[:5]"
   ]
  },
  {
   "cell_type": "code",
   "execution_count": 51,
   "metadata": {},
   "outputs": [],
   "source": [
    "Paiva_WEI2 = readPPfile(\"PaivaPP_WEI.vmt\")"
   ]
  },
  {
   "cell_type": "code",
   "execution_count": 52,
   "metadata": {},
   "outputs": [
    {
     "data": {
      "text/plain": [
       "[[3.0137, 3.5104, 22.678, 0.0, 0.0, 3.0, 450.0, 103.0],\n",
       " [3.0135, 3.5099, 22.676, 0.0, 0.0, 3.0, 452.0, 103.0],\n",
       " [3.0133, 3.5096, 22.675, 0.0, 0.0, 6.0, 450.0, 103.0],\n",
       " [3.0134, 3.51, 22.676, 0.0, 0.0, 7.0, 450.0, 103.0],\n",
       " [3.0149, 3.5128, 22.684, 0.0, 0.0, 21.0, 404.0, 103.0]]"
      ]
     },
     "execution_count": 52,
     "metadata": {},
     "output_type": "execute_result"
    }
   ],
   "source": [
    "Paiva_WEI2[:5]"
   ]
  },
  {
   "cell_type": "code",
   "execution_count": 53,
   "metadata": {
    "scrolled": true
   },
   "outputs": [
    {
     "name": "stdout",
     "output_type": "stream",
     "text": [
      "pnt=       573. ParPnt=   500. Time  :      0.08\n",
      "pnt=      1148. ParPnt=  1000. Time  :      0.29\n",
      "pnt=      1719. ParPnt=  1500. Time  :      0.65\n",
      "pnt=      2284. ParPnt=  2000. Time  :      1.14\n",
      "pnt=      2907. ParPnt=  2500. Time  :      1.83\n",
      "pnt=      3538. ParPnt=  3000. Time  :      2.67\n",
      "pnt=      4124. ParPnt=  3500. Time  :      3.65\n",
      "pnt=      4811. ParPnt=  4000. Time  :      4.89\n",
      "pnt=      4812. ParPnt=  4000. Time  :      4.90\n",
      "pnt=      5606. ParPnt=  4500. Time  :      6.34\n",
      "pnt=      5607. ParPnt=  4500. Time  :      6.34\n",
      "pnt=      6375. ParPnt=  5000. Time  :      8.07\n",
      "pnt=      6376. ParPnt=  5000. Time  :      8.08\n",
      "pnt=      6377. ParPnt=  5000. Time  :      8.08\n",
      "pnt=      7110. ParPnt=  5500. Time  :      9.94\n",
      "pnt=      7745. ParPnt=  6000. Time  :     11.81\n",
      "pnt=      8418. ParPnt=  6500. Time  :     13.91\n",
      "6696\n",
      "Time  :     14.76\n"
     ]
    },
    {
     "data": {
      "text/plain": [
       "6696"
      ]
     },
     "execution_count": 53,
     "metadata": {},
     "output_type": "execute_result"
    }
   ],
   "source": [
    "Paiva_WEIF = filter(Paiva_WEI2, 0)\n",
    "len(Paiva_WEIF)"
   ]
  },
  {
   "cell_type": "code",
   "execution_count": 54,
   "metadata": {},
   "outputs": [
    {
     "data": {
      "text/plain": [
       "[[3.0135, 3.5099, 22.676, 0.0, 0.0, 3.0, 452.0, 103.0],\n",
       " [3.0133, 3.5096, 22.675, 0.0, 0.0, 6.0, 450.0, 103.0],\n",
       " [3.0149, 3.5128, 22.684, 0.0, 0.0, 21.0, 404.0, 103.0],\n",
       " [3.0147, 3.5123, 22.684, 0.0, 0.0, 21.0, 450.0, 103.0],\n",
       " [3.0145, 3.5118, 22.682, 0.0, 0.0, 21.0, 452.0, 103.0]]"
      ]
     },
     "execution_count": 54,
     "metadata": {},
     "output_type": "execute_result"
    }
   ],
   "source": [
    "Paiva_WEIF[:5]"
   ]
  },
  {
   "cell_type": "code",
   "execution_count": 55,
   "metadata": {},
   "outputs": [
    {
     "name": "stdout",
     "output_type": "stream",
     "text": [
      "2.9861 3.0248\n",
      "3.492 3.5402\n",
      "22.642 22.78\n"
     ]
    },
    {
     "data": {
      "image/png": "[encoded data removed]",
      "text/plain": [
       "<Figure size 432x432 with 1 Axes>"
      ]
     },
     "metadata": {
      "needs_background": "light"
     },
     "output_type": "display_data"
    },
    {
     "name": "stdout",
     "output_type": "stream",
     "text": [
      "Time  :    261.94\n"
     ]
    }
   ],
   "source": [
    "PPSet = Paiva_WEIF\n",
    "TStart = time.time()\n",
    "X1 = [PPSet[i][0] for i in range(len(PPSet))]\n",
    "X2 = [PPSet[i][1] for i in range(len(PPSet))]\n",
    "X3 = [PPSet[i][2] for i in range(len(PPSet))]\n",
    "x1_min = min(X1); x1_max = max(X1)\n",
    "print(x1_min, x1_max)\n",
    "x2_min = min(X2); x2_max = max(X2)\n",
    "print(x2_min, x2_max)\n",
    "x3_min = min(X3); x3_max = max(X3)\n",
    "print(x3_min, x3_max)\n",
    "#################################\n",
    "\n",
    "import numpy as np\n",
    "import matplotlib.pyplot as plt\n",
    "\n",
    "fig = plt.figure(figsize =(6,6))\n",
    "for i in range(len(X1)):\n",
    "    plt.scatter(X1[i],X2[i], color=pntclr(X3[i],x3_min, x3_max))\n",
    "plt.xlabel('x1')    \n",
    "plt.ylabel('x2')    \n",
    "plt.grid()    \n",
    "plt.show()  \n",
    "TFinish = time.time()\n",
    "print('Time  : {:>9.2f}'.format(TFinish - TStart))"
   ]
  },
  {
   "cell_type": "markdown",
   "metadata": {},
   "source": [
    "# ===================================="
   ]
  },
  {
   "cell_type": "code",
   "execution_count": 56,
   "metadata": {},
   "outputs": [],
   "source": [
    "# Joining ParPen + Paiva "
   ]
  },
  {
   "cell_type": "code",
   "execution_count": null,
   "metadata": {},
   "outputs": [],
   "source": []
  },
  {
   "cell_type": "code",
   "execution_count": 57,
   "metadata": {},
   "outputs": [
    {
     "data": {
      "text/plain": [
       "(219, 6696, 1466424)"
      ]
     },
     "execution_count": 57,
     "metadata": {},
     "output_type": "execute_result"
    }
   ],
   "source": [
    "len(ParPenPPF), len(Paiva_WEIF), len(ParPenPPF)*len(Paiva_WEIF) "
   ]
  },
  {
   "cell_type": "code",
   "execution_count": 58,
   "metadata": {},
   "outputs": [
    {
     "name": "stdout",
     "output_type": "stream",
     "text": [
      "Joining ParPen + Paiva\n",
      "pnt=       499. ParPnt=   500. Time  :      0.07\n",
      "pnt=       999. ParPnt=  1000. Time  :      0.27\n",
      "pnt=      1499. ParPnt=  1500. Time  :      0.58\n",
      "pnt=      1999. ParPnt=  2000. Time  :      1.01\n",
      "pnt=      2499. ParPnt=  2500. Time  :      1.58\n",
      "pnt=      2999. ParPnt=  3000. Time  :      2.27\n",
      "pnt=      3499. ParPnt=  3500. Time  :      3.08\n",
      "pnt=      3999. ParPnt=  4000. Time  :      4.03\n",
      "pnt=      4499. ParPnt=  4500. Time  :      5.09\n",
      "pnt=      4999. ParPnt=  5000. Time  :      6.27\n",
      "pnt=      5499. ParPnt=  5500. Time  :      7.59\n",
      "pnt=      5999. ParPnt=  6000. Time  :      9.08\n",
      "pnt=      6499. ParPnt=  6500. Time  :     10.74\n",
      "pnt=      8375. ParPnt=  7000. Time  :     14.48\n",
      "pnt=      8376. ParPnt=  7000. Time  :     14.48\n",
      "pnt=     11188. ParPnt=  7500. Time  :     20.91\n",
      "pnt=     13827. ParPnt=  7500. Time  :     26.33\n",
      "pnt=     13828. ParPnt=  7500. Time  :     26.33\n",
      "pnt=     16396. ParPnt=  4000. Time  :     33.45\n",
      "pnt=     17003. ParPnt=  4500. Time  :     34.89\n",
      "pnt=     17845. ParPnt=  5000. Time  :     37.22\n",
      "pnt=     18632. ParPnt=  5500. Time  :     39.54\n",
      "pnt=     19138. ParPnt=  6000. Time  :     41.24\n",
      "pnt=     19638. ParPnt=  6500. Time  :     43.10\n",
      "pnt=     20294. ParPnt=  7000. Time  :     45.44\n",
      "pnt=     20295. ParPnt=  7000. Time  :     45.44\n",
      "pnt=     20296. ParPnt=  7000. Time  :     45.45\n",
      "pnt=     20297. ParPnt=  7000. Time  :     45.45\n",
      "pnt=     20303. ParPnt=  7000. Time  :     45.47\n",
      "pnt=     20304. ParPnt=  7000. Time  :     45.47\n",
      "pnt=     20312. ParPnt=  7000. Time  :     45.49\n",
      "pnt=     20317. ParPnt=  7000. Time  :     45.51\n",
      "pnt=     22270. ParPnt=  7500. Time  :     49.79\n",
      "pnt=     22281. ParPnt=  7500. Time  :     49.80\n",
      "pnt=     24578. ParPnt=  8000. Time  :     54.75\n",
      "pnt=     28209. ParPnt=  8000. Time  :     60.57\n",
      "pnt=     28210. ParPnt=  8000. Time  :     60.58\n",
      "pnt=     28216. ParPnt=  8000. Time  :     60.61\n",
      "pnt=     28469. ParPnt=  8000. Time  :     61.70\n",
      "pnt=     30578. ParPnt=  8500. Time  :     68.87\n",
      "pnt=     32165. ParPnt=  9000. Time  :     71.89\n",
      "pnt=     32759. ParPnt=  9500. Time  :     74.65\n",
      "pnt=     39357. ParPnt= 10000. Time  :     82.26\n",
      "pnt=     45615. ParPnt= 10000. Time  :     89.59\n",
      "pnt=     45616. ParPnt= 10000. Time  :     89.59\n",
      "pnt=     45617. ParPnt= 10000. Time  :     89.60\n",
      "pnt=     45618. ParPnt= 10000. Time  :     89.61\n",
      "pnt=     51554. ParPnt= 10500. Time  :     98.84\n",
      "pnt=     59290. ParPnt= 10500. Time  :    105.48\n",
      "pnt=     69911. ParPnt= 10500. Time  :    119.32\n",
      "pnt=     69912. ParPnt= 10500. Time  :    119.33\n",
      "pnt=     73104. ParPnt= 10500. Time  :    126.66\n",
      "pnt=     90171. ParPnt= 10500. Time  :    142.49\n",
      "pnt=     90439. ParPnt= 10500. Time  :    143.07\n",
      "pnt=     90448. ParPnt= 10500. Time  :    143.09\n",
      "pnt=     90466. ParPnt= 10500. Time  :    143.12\n",
      "pnt=     90553. ParPnt= 10500. Time  :    143.35\n",
      "pnt=     91475. ParPnt= 10500. Time  :    145.44\n",
      "pnt=     91515. ParPnt= 10500. Time  :    145.46\n",
      "pnt=     94979. ParPnt= 10500. Time  :    150.18\n",
      "pnt=     97739. ParPnt=  9000. Time  :    163.22\n",
      "pnt=     97746. ParPnt=  9000. Time  :    163.25\n",
      "pnt=     97748. ParPnt=  9000. Time  :    163.26\n",
      "pnt=     97822. ParPnt=  9000. Time  :    163.56\n",
      "pnt=    100004. ParPnt=  9500. Time  :    168.96\n",
      "pnt=    110990. ParPnt= 10000. Time  :    186.32\n",
      "pnt=    116506. ParPnt= 10500. Time  :    195.46\n",
      "pnt=    132002. ParPnt= 11000. Time  :    216.31\n",
      "pnt=    132042. ParPnt= 11000. Time  :    216.36\n",
      "pnt=    134172. ParPnt= 11000. Time  :    219.47\n",
      "pnt=    142116. ParPnt=  9500. Time  :    240.43\n",
      "pnt=    145103. ParPnt=  9000. Time  :    255.57\n",
      "pnt=    146790. ParPnt=  9500. Time  :    262.22\n",
      "pnt=    148168. ParPnt= 10000. Time  :    266.07\n",
      "pnt=    152163. ParPnt= 10500. Time  :    278.96\n",
      "pnt=    152172. ParPnt= 10500. Time  :    278.98\n",
      "pnt=    158395. ParPnt= 11000. Time  :    294.90\n",
      "pnt=    165286. ParPnt= 11500. Time  :    309.21\n",
      "pnt=    165295. ParPnt= 11500. Time  :    309.23\n",
      "pnt=    165296. ParPnt= 11500. Time  :    309.24\n",
      "pnt=    165317. ParPnt= 11500. Time  :    309.27\n",
      "pnt=    165318. ParPnt= 11500. Time  :    309.28\n",
      "pnt=    197281. ParPnt=  9000. Time  :    365.09\n",
      "pnt=    198488. ParPnt=  9500. Time  :    371.17\n",
      "pnt=    199751. ParPnt= 10000. Time  :    376.14\n",
      "pnt=    200606. ParPnt= 10500. Time  :    380.60\n",
      "pnt=    203375. ParPnt= 11000. Time  :    388.51\n",
      "pnt=    203377. ParPnt= 11000. Time  :    388.52\n",
      "pnt=    207188. ParPnt= 11500. Time  :    400.26\n",
      "pnt=    285036. ParPnt= 12000. Time  :    467.68\n",
      "pnt=    380817. ParPnt= 12500. Time  :    568.79\n",
      "pnt=    565292. ParPnt= 13000. Time  :    706.43\n",
      "pnt=    584335. ParPnt= 13000. Time  :    721.14\n",
      "pnt=    587652. ParPnt= 13000. Time  :    729.57\n",
      "pnt=    587958. ParPnt= 13000. Time  :    731.59\n",
      "pnt=    588010. ParPnt= 13000. Time  :    732.06\n",
      "pnt=    590708. ParPnt= 13500. Time  :    738.60\n",
      "pnt=    635476. ParPnt= 14000. Time  :    813.35\n",
      "pnt=    648619. ParPnt= 14000. Time  :    830.26\n",
      "pnt=    648638. ParPnt= 14000. Time  :    830.33\n",
      "pnt=    650729. ParPnt= 14000. Time  :    832.55\n",
      "pnt=    650730. ParPnt= 14000. Time  :    832.56\n",
      "pnt=    651663. ParPnt= 14000. Time  :    837.93\n",
      "pnt=    651664. ParPnt= 14000. Time  :    837.94\n",
      "pnt=    652031. ParPnt= 14000. Time  :    838.50\n",
      "pnt=    652037. ParPnt= 14000. Time  :    838.51\n",
      "pnt=    652043. ParPnt= 14000. Time  :    838.53\n",
      "pnt=    652044. ParPnt= 14000. Time  :    838.54\n",
      "pnt=    652062. ParPnt= 14000. Time  :    838.56\n",
      "pnt=    652063. ParPnt= 14000. Time  :    838.57\n",
      "pnt=    652077. ParPnt= 14000. Time  :    838.60\n",
      "pnt=    652098. ParPnt= 14000. Time  :    838.69\n",
      "pnt=    652106. ParPnt= 14000. Time  :    838.72\n",
      "pnt=    652128. ParPnt= 14000. Time  :    838.82\n",
      "pnt=    652130. ParPnt= 14000. Time  :    838.84\n",
      "pnt=    652135. ParPnt= 14000. Time  :    838.86\n",
      "pnt=    652147. ParPnt= 14000. Time  :    838.90\n",
      "pnt=    652170. ParPnt= 14000. Time  :    839.02\n",
      "pnt=    652181. ParPnt= 14000. Time  :    839.04\n",
      "pnt=    652192. ParPnt= 14000. Time  :    839.08\n",
      "pnt=    652202. ParPnt= 14000. Time  :    839.15\n",
      "pnt=    652209. ParPnt= 14000. Time  :    839.17\n",
      "pnt=    652210. ParPnt= 14000. Time  :    839.18\n",
      "pnt=    664291. ParPnt= 14000. Time  :    858.89\n",
      "pnt=    692135. ParPnt= 14500. Time  :    904.90\n",
      "pnt=    692386. ParPnt= 14500. Time  :    906.31\n",
      "pnt=    692623. ParPnt= 14500. Time  :    907.40\n",
      "pnt=    692624. ParPnt= 14500. Time  :    907.42\n",
      "pnt=    692625. ParPnt= 14500. Time  :    907.43\n",
      "pnt=    692665. ParPnt= 14500. Time  :    907.79\n",
      "pnt=    692692. ParPnt= 14500. Time  :    908.03\n",
      "pnt=    692760. ParPnt= 14500. Time  :    908.38\n",
      "pnt=    692764. ParPnt= 14500. Time  :    908.40\n",
      "pnt=    692765. ParPnt= 14500. Time  :    908.42\n",
      "pnt=    692766. ParPnt= 14500. Time  :    908.43\n",
      "pnt=    723118. ParPnt= 15000. Time  :    959.30\n",
      "pnt=    723129. ParPnt= 15000. Time  :    959.33\n",
      "pnt=    934702. ParPnt= 15500. Time  :   1125.30\n",
      "pnt=    949258. ParPnt= 14000. Time  :   1166.76\n",
      "pnt=    949264. ParPnt= 14000. Time  :   1166.81\n",
      "pnt=    952064. ParPnt= 14500. Time  :   1174.86\n",
      "pnt=    952067. ParPnt= 14500. Time  :   1174.89\n",
      "pnt=    954845. ParPnt= 15000. Time  :   1194.54\n",
      "pnt=    954858. ParPnt= 15000. Time  :   1194.57\n",
      "pnt=    954944. ParPnt= 15000. Time  :   1194.97\n",
      "pnt=    954961. ParPnt= 15000. Time  :   1195.01\n",
      "pnt=    954970. ParPnt= 15000. Time  :   1195.04\n",
      "pnt=    955068. ParPnt= 15000. Time  :   1195.45\n",
      "pnt=    955069. ParPnt= 15000. Time  :   1195.47\n",
      "pnt=    955070. ParPnt= 15000. Time  :   1195.48\n",
      "pnt=    955071. ParPnt= 15000. Time  :   1195.49\n",
      "pnt=    955073. ParPnt= 15000. Time  :   1195.51\n",
      "pnt=    955075. ParPnt= 15000. Time  :   1195.52\n",
      "pnt=    961710. ParPnt= 15500. Time  :   1221.50\n",
      "pnt=   1170178. ParPnt= 16000. Time  :   1584.82\n",
      "pnt=   1237917. ParPnt= 16000. Time  :   1727.61\n",
      "pnt=   1237919. ParPnt= 16000. Time  :   1727.64\n",
      "pnt=   1264072. ParPnt= 16500. Time  :   1799.28\n",
      "pnt=   1422542. ParPnt= 17000. Time  :   2176.65\n",
      "pnt=   1422546. ParPnt= 17000. Time  :   2176.67\n",
      "pnt=   1422930. ParPnt= 17000. Time  :   2178.60\n",
      "pnt=   1424514. ParPnt= 17000. Time  :   2181.75\n",
      "Joined ParPen + Paiva\n",
      "17141\n",
      "Time  :   2280.79\n"
     ]
    },
    {
     "data": {
      "text/plain": [
       "17141"
      ]
     },
     "execution_count": 58,
     "metadata": {},
     "output_type": "execute_result"
    }
   ],
   "source": [
    "MasterParPoints = []   \n",
    "\n",
    "TStart = time.time()\n",
    "pntNumber = 0\n",
    "#---------------------------------Joining Paivas\n",
    "print(\"Joining ParPen + Paiva\")\n",
    "\n",
    "for i in range(len(ParPenPPF)):\n",
    "    for j in range(len(Paiva_WEIF)):\n",
    "        newp = [0,0,0,  0,0,0,0,0]\n",
    "        for k in range(3):\n",
    "            newp[k] = ParPenPPF[i][k] + Paiva_WEIF[j][k]\n",
    "        newp[3] = ParPenPPF[i][3]\n",
    "        newp[4] = ParPenPPF[i][4]\n",
    "        newp[5] = Paiva_WEIF[j][5]\n",
    "        newp[6] = Paiva_WEIF[j][6]\n",
    "        newp[7] = Paiva_WEIF[j][7]\n",
    "        insert_pnt(newp)\n",
    "        pntNumber = pntNumber + 1 \n",
    "\n",
    "TFinish = time.time()\n",
    "print(\"Joined ParPen + Paiva\")\n",
    "print(len(MasterParPoints))\n",
    "print('Time  : {:>9.2f}'.format(TFinish - TStart))\n",
    "ValeSousaPP = MasterParPoints.copy()\n",
    "len(ValeSousaPP)"
   ]
  },
  {
   "cell_type": "code",
   "execution_count": 59,
   "metadata": {},
   "outputs": [],
   "source": [
    "PP2File(\"1mWithLock\"+str(len(ValeSousaPP))+\".vmt\", ValeSousaPP, \"VSousa\")"
   ]
  },
  {
   "cell_type": "code",
   "execution_count": 60,
   "metadata": {},
   "outputs": [
    {
     "data": {
      "text/plain": [
       "[[5.8359000000000005, 5.976, 43.632, 1, 0, 212.0, 93.0, 103.0],\n",
       " [5.8387, 5.984500000000001, 43.607, 1, 0, 223.0, 91.0, 65.0],\n",
       " [5.8372, 5.9821, 43.623, 1, 0, 223.0, 91.0, 103.0],\n",
       " [5.838, 5.978, 43.611999999999995, 1, 0, 223.0, 93.0, 65.0],\n",
       " [5.8359000000000005, 5.9757, 43.631, 1, 0, 223.0, 93.0, 86.0]]"
      ]
     },
     "execution_count": 60,
     "metadata": {},
     "output_type": "execute_result"
    }
   ],
   "source": [
    "ValeSousaPP[:5]"
   ]
  },
  {
   "cell_type": "code",
   "execution_count": 61,
   "metadata": {},
   "outputs": [
    {
     "data": {
      "text/plain": [
       "[[5.8359, 5.976, 43.632, 1.0, 0.0, 212.0, 93.0, 103.0],\n",
       " [5.8387, 5.9845, 43.607, 1.0, 0.0, 223.0, 91.0, 65.0],\n",
       " [5.8372, 5.9821, 43.623, 1.0, 0.0, 223.0, 91.0, 103.0],\n",
       " [5.838, 5.978, 43.612, 1.0, 0.0, 223.0, 93.0, 65.0],\n",
       " [5.8359, 5.9757, 43.631, 1.0, 0.0, 223.0, 93.0, 86.0]]"
      ]
     },
     "execution_count": 61,
     "metadata": {},
     "output_type": "execute_result"
    }
   ],
   "source": [
    "ValeSousaPP2 = readPPfile(\"1mWithLock\"+str(len(ValeSousaPP))+\".vmt\")\n",
    "ValeSousaPP2[:5]"
   ]
  },
  {
   "cell_type": "code",
   "execution_count": 62,
   "metadata": {},
   "outputs": [
    {
     "name": "stdout",
     "output_type": "stream",
     "text": [
      "pnt=       507. ParPnt=   500. Time  :      0.07\n",
      "pnt=      1066. ParPnt=  1000. Time  :      0.28\n",
      "pnt=      1611. ParPnt=  1500. Time  :      0.63\n",
      "pnt=      2112. ParPnt=  2000. Time  :      1.09\n",
      "pnt=      2619. ParPnt=  2500. Time  :      1.67\n",
      "pnt=      3134. ParPnt=  3000. Time  :      2.39\n",
      "pnt=      3690. ParPnt=  3500. Time  :      3.29\n",
      "pnt=      4298. ParPnt=  4000. Time  :      4.32\n",
      "pnt=      4915. ParPnt=  4500. Time  :      5.52\n",
      "pnt=      5455. ParPnt=  5000. Time  :      6.91\n",
      "pnt=      6023. ParPnt=  5500. Time  :      8.57\n",
      "pnt=      6636. ParPnt=  6000. Time  :     10.34\n",
      "pnt=      7222. ParPnt=  6500. Time  :     12.20\n",
      "pnt=      7753. ParPnt=  7000. Time  :     14.08\n",
      "pnt=      8326. ParPnt=  7500. Time  :     16.29\n",
      "pnt=      8903. ParPnt=  8000. Time  :     18.57\n",
      "pnt=      9497. ParPnt=  8500. Time  :     21.01\n",
      "pnt=     10007. ParPnt=  9000. Time  :     23.48\n",
      "pnt=     10530. ParPnt=  9500. Time  :     26.19\n",
      "pnt=     11081. ParPnt= 10000. Time  :     29.15\n",
      "pnt=     11711. ParPnt= 10500. Time  :     32.76\n",
      "pnt=     12360. ParPnt= 11000. Time  :     36.61\n",
      "pnt=     12967. ParPnt= 11500. Time  :     40.52\n",
      "pnt=     13599. ParPnt= 12000. Time  :     44.75\n",
      "pnt=     14192. ParPnt= 12500. Time  :     48.83\n",
      "pnt=     14696. ParPnt= 13000. Time  :     52.60\n",
      "pnt=     15196. ParPnt= 13500. Time  :     56.55\n",
      "pnt=     15724. ParPnt= 14000. Time  :     60.81\n",
      "pnt=     16309. ParPnt= 14500. Time  :     65.70\n",
      "pnt=     16310. ParPnt= 14500. Time  :     65.71\n",
      "pnt=     16902. ParPnt= 15000. Time  :     70.85\n",
      "15143\n",
      "Time  :     72.61\n"
     ]
    },
    {
     "data": {
      "text/plain": [
       "15143"
      ]
     },
     "execution_count": 62,
     "metadata": {},
     "output_type": "execute_result"
    }
   ],
   "source": [
    "ValeSousaPP2F = filter(ValeSousaPP2, 0)\n",
    "len(ValeSousaPP2F)"
   ]
  },
  {
   "cell_type": "code",
   "execution_count": 63,
   "metadata": {},
   "outputs": [
    {
     "data": {
      "text/plain": [
       "[[5.8359, 5.976, 43.632, 1.0, 0.0, 212.0, 93.0, 103.0],\n",
       " [5.8387, 5.9845, 43.607, 1.0, 0.0, 223.0, 91.0, 65.0],\n",
       " [5.8372, 5.9821, 43.623, 1.0, 0.0, 223.0, 91.0, 103.0],\n",
       " [5.838, 5.978, 43.612, 1.0, 0.0, 223.0, 93.0, 65.0],\n",
       " [5.8365, 5.9756, 43.628, 1.0, 0.0, 223.0, 93.0, 103.0]]"
      ]
     },
     "execution_count": 63,
     "metadata": {},
     "output_type": "execute_result"
    }
   ],
   "source": [
    "ValeSousaPP2F[:5]"
   ]
  },
  {
   "cell_type": "code",
   "execution_count": 64,
   "metadata": {},
   "outputs": [],
   "source": [
    "PP2File(\"1mWithLock\"+str(len(ValeSousaPP2F))+\".vmt\", ValeSousaPP2F, \"VSousa\")"
   ]
  },
  {
   "cell_type": "code",
   "execution_count": 65,
   "metadata": {},
   "outputs": [
    {
     "name": "stdout",
     "output_type": "stream",
     "text": [
      "Here\n"
     ]
    }
   ],
   "source": [
    "print(\"Here\")"
   ]
  },
  {
   "cell_type": "markdown",
   "metadata": {},
   "source": [
    "### ---------------------------------------------"
   ]
  }
 ],
 "metadata": {
  "kernelspec": {
   "display_name": "Python 3",
   "language": "python",
   "name": "python3"
  },
  "language_info": {
   "codemirror_mode": {
    "name": "ipython",
    "version": 3
   },
   "file_extension": ".py",
   "mimetype": "text/x-python",
   "name": "python",
   "nbconvert_exporter": "python",
   "pygments_lexer": "ipython3",
   "version": "3.8.10"
  }
 },
 "nbformat": 4,
 "nbformat_minor": 4
}
